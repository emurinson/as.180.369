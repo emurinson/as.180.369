{
 "cells": [
  {
   "cell_type": "markdown",
   "id": "0c27f813-19f7-4f91-8c82-e896387457b2",
   "metadata": {},
   "source": [
    "ways in which you might use some of the ideas in the paper in your own paper\n",
    "\n",
    "After reading the Korinek paper and spending time in this class, I'm realizing that there important ways in which I can leverage AI large language models to improve the level of my writing and contribute to my research. \n",
    "\n",
    "Improving the direction of my paper: Korinek points out that LLM's can help develop and give feedback for ideas. Since it is a little difficult to pin down specific paths of inquiry for the topic I'm researching, I'd use ChatGPT specifically to help orient me in my research and give me feedback for ideas I think are good.\n",
    "\n",
    "Content Summarization: AI can summarize long articles, helping me grasp the core ideas quickly and integrate them into my papers. Specifically, I think I'd be able to utilize this for conducting background research for my literature review in this paper.\n",
    "\n",
    "Writing Editing: Since the vast majority of my paper will be written text, I can leverage LLM's to help improve the quality of my writing. The things I think I'd need the most help with are clarity, sentence structure, and simplicity of writing. Before I started this class, I was unaware abilities LLMs have for text editing were such high quality. Now reading the Korinek paper, and seeing the specific examples he provides, I see how valuable of a helper LLM's can be for text editing. \n",
    "\n",
    "Citation formatting: The ease with which ChatGPT specifically can format references into different styles such as Bibtex or Chicago makes it an incredible tool. Being able to use an LLM to help me with this task will convert a process that is usually painstaking into one that is painless. \n",
    "\n",
    "Coding help: Korinek outlines a myriad of tasks LLM's can perform when it comes to coding and data analysis. I'm fairly inexperienced when it comes to coding, so it's hard to understand some of the examples he outlines. Therefore, it's especially helpful to see that ChatGPT can help explain code to me. This in turn will give me a better grasp of the code already in my models, and help me better understand any code ChatGPT helps me write. \n",
    "\n",
    "Before reading the Korinek paper, I was aware of the remarkable capabilities of LLMs, especially when it comes to academic writing and research. Now, after reading the Korinek paper, I'm hopeful that I'll be able to implement at least some of the tools it offers into my own work. If I'm successful, I'm confident it will raise my work to a level I previously thought unattainable. \n",
    "\n"
   ]
  },
  {
   "cell_type": "code",
   "execution_count": null,
   "id": "808ea249-406b-4d82-8b01-9d58cc4a207b",
   "metadata": {},
   "outputs": [],
   "source": []
  }
 ],
 "metadata": {
  "kernelspec": {
   "display_name": "Python 3 (ipykernel)",
   "language": "python",
   "name": "python3"
  },
  "language_info": {
   "codemirror_mode": {
    "name": "ipython",
    "version": 3
   },
   "file_extension": ".py",
   "mimetype": "text/x-python",
   "name": "python",
   "nbconvert_exporter": "python",
   "pygments_lexer": "ipython3",
   "version": "3.10.10"
  }
 },
 "nbformat": 4,
 "nbformat_minor": 5
}
