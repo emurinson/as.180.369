{
 "cells": [
  {
   "cell_type": "markdown",
   "id": "0c27f813-19f7-4f91-8c82-e896387457b2",
   "metadata": {},
   "source": [
    "ways in which you might use some of the ideas in the paper in your own paper\n",
    "\n",
    "After reading the Korinek paper and spending time in this class, I'm realizing that there important ways in which I can leverage AI large language models to improve the level of my writing and contribute to my research. \n",
    "\n",
    "Content Summarization: AI can summarize long articles, helping me grasp the core ideas quickly and integrate them into my papers. Specifically, I think I'd be able to utilize this for conducting background research for my literature review in this paper.\n",
    "\n",
    "Content Generation: AI-driven writing assistants can help you generate content more efficiently. Tools like Grammarly or OpenAI's GPT-3 can offer grammar and style suggestions, making your writing more concise and coherent.\n",
    "\n",
    "Citation formatting: The ease with which ChatGPT specifically can format references into different styles such as Bibtex or Chicago makes it an incredible tool. Being able to use an LLM to help me with this task will convert a process that is usually painstaking into one that is painless. "
   ]
  },
  {
   "cell_type": "code",
   "execution_count": null,
   "id": "ff8f53d3-4f8a-4126-8a00-b7ebbda55085",
   "metadata": {},
   "outputs": [],
   "source": []
  },
  {
   "cell_type": "code",
   "execution_count": null,
   "id": "1c54362e-aafa-42e1-ae6c-8b1083dde84c",
   "metadata": {},
   "outputs": [],
   "source": []
  }
 ],
 "metadata": {
  "kernelspec": {
   "display_name": "Python 3 (ipykernel)",
   "language": "python",
   "name": "python3"
  },
  "language_info": {
   "codemirror_mode": {
    "name": "ipython",
    "version": 3
   },
   "file_extension": ".py",
   "mimetype": "text/x-python",
   "name": "python",
   "nbconvert_exporter": "python",
   "pygments_lexer": "ipython3",
   "version": "3.10.10"
  }
 },
 "nbformat": 4,
 "nbformat_minor": 5
}
