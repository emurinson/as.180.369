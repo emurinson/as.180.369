{
 "cells": [
  {
   "cell_type": "code",
   "execution_count": 1,
   "id": "ac4652d9-70ab-4d14-8172-61369860eee0",
   "metadata": {},
   "outputs": [],
   "source": [
    "import pandas as pd \n",
    "import matplotlib.pyplot as plt\n"
   ]
  },
  {
   "cell_type": "code",
   "execution_count": 6,
   "id": "aea7fe33-d517-42ba-98b4-8b95b0a0a728",
   "metadata": {},
   "outputs": [
    {
     "name": "stdout",
     "output_type": "stream",
     "text": [
      "        Date  Sentiment Index Val\n",
      "0 1978-01-01                 83.7\n",
      "1 1978-02-01                 84.3\n",
      "2 1978-03-01                 78.8\n",
      "3 1978-04-01                 81.6\n",
      "4 1978-05-01                 82.9\n",
      "<bound method NDFrame.head of            Date GOP\n",
      "0    1871-01-01   1\n",
      "1    1871-02-01   1\n",
      "2    1871-03-01   1\n",
      "3    1871-04-01   1\n",
      "4    1871-05-01   1\n",
      "...         ...  ..\n",
      "1826 2023-03-01   0\n",
      "1827 2023-04-01   0\n",
      "1828 2023-05-01   0\n",
      "1829 2023-06-01   0\n",
      "1830 2023-07-01   0\n",
      "\n",
      "[1831 rows x 2 columns]>\n"
     ]
    },
    {
     "ename": "NameError",
     "evalue": "name 'df' is not defined",
     "output_type": "error",
     "traceback": [
      "\u001b[0;31m---------------------------------------------------------------------------\u001b[0m",
      "\u001b[0;31mNameError\u001b[0m                                 Traceback (most recent call last)",
      "Cell \u001b[0;32mIn[6], line 29\u001b[0m\n\u001b[1;32m     26\u001b[0m df_gop[\u001b[38;5;124m'\u001b[39m\u001b[38;5;124mDate\u001b[39m\u001b[38;5;124m'\u001b[39m] \u001b[38;5;241m=\u001b[39m df_gop[\u001b[38;5;124m'\u001b[39m\u001b[38;5;124mDate\u001b[39m\u001b[38;5;124m'\u001b[39m]\u001b[38;5;241m.\u001b[39mdt\u001b[38;5;241m.\u001b[39mfloor(\u001b[38;5;124m'\u001b[39m\u001b[38;5;124mD\u001b[39m\u001b[38;5;124m'\u001b[39m)\n\u001b[1;32m     27\u001b[0m \u001b[38;5;28mprint\u001b[39m(df_gop\u001b[38;5;241m.\u001b[39mhead)\n\u001b[0;32m---> 29\u001b[0m df \u001b[38;5;241m=\u001b[39m \u001b[43mdf\u001b[49m\u001b[38;5;241m.\u001b[39mset_index(keys\u001b[38;5;241m=\u001b[39mindex, drop\u001b[38;5;241m=\u001b[39m\u001b[38;5;28;01mFalse\u001b[39;00m)\n\u001b[1;32m     30\u001b[0m \u001b[38;5;66;03m# Plot consumer sentiment. Shade GOP presidential terms\u001b[39;00m\n\u001b[1;32m     31\u001b[0m \u001b[38;5;66;03m# convenience function\u001b[39;00m\n\u001b[1;32m     32\u001b[0m \u001b[38;5;28;01mdef\u001b[39;00m \u001b[38;5;21mplot_series\u001b[39m(ax, df, index\u001b[38;5;241m=\u001b[39m\u001b[38;5;124m'\u001b[39m\u001b[38;5;124mDate\u001b[39m\u001b[38;5;124m'\u001b[39m, cols\u001b[38;5;241m=\u001b[39m[\u001b[38;5;124m'\u001b[39m\u001b[38;5;124mSentiment Index Val\u001b[39m\u001b[38;5;124m'\u001b[39m], area\u001b[38;5;241m=\u001b[39m\u001b[38;5;124m'\u001b[39m\u001b[38;5;124mGOP\u001b[39m\u001b[38;5;124m'\u001b[39m):\n\u001b[1;32m     33\u001b[0m     \u001b[38;5;66;03m# convert area variable to boolean\u001b[39;00m\n",
      "\u001b[0;31mNameError\u001b[0m: name 'df' is not defined"
     ]
    }
   ],
   "source": [
    "# Set up FRED data connection\n",
    "# Instructions for getting your FRED API key available at these websites\n",
    "# https://pypi.org/project/fredapi/ \n",
    "# http://api.stlouisfed.org/api_key.html\n",
    "from fredapi import Fred\n",
    "fred = Fred(api_key='5e450d83c52ef0ad9cca37fad13d8fab')\n",
    "\n",
    "temp = fred.get_series('UMCSENT', observation_start='1978-01-01', observation_end='2023-07-01')\n",
    "df_total_share_price_idx = pd.DataFrame(data = temp, columns=['Sentiment Index Val'])\n",
    "df_total_share_price_idx = df_total_share_price_idx.rename_axis('Date').reset_index()\n",
    "print(df_total_share_price_idx.head(5))\n",
    "\n",
    "# Read in data files \n",
    "# GOP term flags\n",
    "url = \"https://github.com/llorracc/as.180.369/blob/main/materials/presidential-term-data/GOP_flag.csv?raw=true\"\n",
    "temp = pd.read_csv(url,dtype=str)\n",
    "df_gop = pd.DataFrame(temp)\n",
    "\n",
    "# Add a specific day (e.g., the first day of the month)\n",
    "df_gop['Date'] = df_gop['Date'] + '.01'\n",
    "\n",
    "# Convert the complete date string to a datetime object\n",
    "#df_gop['Date'] = datetime.strptime(df_gop['Date'], '%Y-%m-%d')\n",
    "df_gop['Date'] = pd.to_datetime(df_gop['Date'])\n",
    "df_gop['Date'] = df_gop['Date'].dt.normalize()\n",
    "df_gop['Date'] = df_gop['Date'].dt.floor('D')\n",
    "print(df_gop.head)\n",
    "\n",
    "df = df.set_index(keys=index, drop=False)\n",
    "# Plot consumer sentiment. Shade GOP presidential terms\n",
    "# convenience function\n",
    "def plot_series(ax, df, index='Date', cols=['Sentiment Index Val'], area='GOP'):\n",
    "    # convert area variable to boolean\n",
    "    df[area] = df[area].astype(int).astype(bool)\n",
    "    # set up an index based on date\n",
    "    df = df.set_index(keys=index, drop=False)\n",
    "    # line plot\n",
    "    df.plot(ax=ax, x=index, y=cols, color='blue', legend=False)\n",
    "    # extract limits\n",
    "    y1, y2 = ax.get_ylim()\n",
    "    ax.fill_between(\n",
    "        df[index].index, y1=y1, y2=y2, where=df[area], facecolor='tab:red', alpha=0.4\n",
    "    )\n",
    "    return ax\n",
    "\n",
    "# set up figure, axis\n",
    "f, ax = plt.subplots(figsize=(12, 6))\n",
    "plot_series(ax, df)\n",
    "ax.set_title('Consumer sentiment and GOP Presidencies', loc='left')\n",
    "\n",
    "# ax.grid(visible=False)\n",
    "ax.grid(axis='y')\n",
    "ax.set_xlabel('')\n",
    "ax.set_ylabel('Consumer Sentiment')\n",
    "\n"
   ]
  },
  {
   "cell_type": "code",
   "execution_count": null,
   "id": "2c7ab587-de2f-4cfd-85e0-9d4c12a4b9cd",
   "metadata": {},
   "outputs": [],
   "source": []
  }
 ],
 "metadata": {
  "kernelspec": {
   "display_name": "Python 3 (ipykernel)",
   "language": "python",
   "name": "python3"
  },
  "language_info": {
   "codemirror_mode": {
    "name": "ipython",
    "version": 3
   },
   "file_extension": ".py",
   "mimetype": "text/x-python",
   "name": "python",
   "nbconvert_exporter": "python",
   "pygments_lexer": "ipython3",
   "version": "3.10.10"
  }
 },
 "nbformat": 4,
 "nbformat_minor": 5
}
