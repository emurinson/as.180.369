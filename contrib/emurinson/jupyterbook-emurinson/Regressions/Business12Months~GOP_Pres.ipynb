{
 "cells": [
  {
   "cell_type": "code",
   "execution_count": 1,
   "id": "4da8ff4b-8d13-4ce6-bd98-c9b9d44b6cd2",
   "metadata": {},
   "outputs": [
    {
     "name": "stdout",
     "output_type": "stream",
     "text": [
      "                            OLS Regression Results                            \n",
      "==============================================================================\n",
      "Dep. Variable:                      y   R-squared:                       0.019\n",
      "Model:                            OLS   Adj. R-squared:                  0.004\n",
      "Method:                 Least Squares   F-statistic:                     1.160\n",
      "Date:                Mon, 27 Nov 2023   Prob (F-statistic):              0.286\n",
      "Time:                        16:38:45   Log-Likelihood:                -308.01\n",
      "No. Observations:                  64   AIC:                             620.0\n",
      "Df Residuals:                      62   BIC:                             624.3\n",
      "Df Model:                           1                                         \n",
      "Covariance Type:                  HC3                                         \n",
      "==============================================================================\n",
      "                 coef    std err          z      P>|z|      [0.025      0.975]\n",
      "------------------------------------------------------------------------------\n",
      "Intercept    111.4409      6.489     17.174      0.000      98.722     124.159\n",
      "X             -8.3803      7.780     -1.077      0.281     -23.628       6.867\n",
      "==============================================================================\n",
      "Omnibus:                        5.661   Durbin-Watson:                   0.460\n",
      "Prob(Omnibus):                  0.059   Jarque-Bera (JB):                2.686\n",
      "Skew:                          -0.217   Prob(JB):                        0.261\n",
      "Kurtosis:                       2.095   Cond. No.                         2.66\n",
      "==============================================================================\n",
      "\n",
      "Notes:\n",
      "[1] Standard Errors are heteroscedasticity robust (HC3)\n"
     ]
    }
   ],
   "source": [
    "import pandas as pd\n",
    "import pandas_datareader.data as web\n",
    "import statsmodels.api as sm\n",
    "import os\n",
    "import numpy as np\n",
    "from sklearn.model_selection import train_test_split\n",
    "from sklearn.linear_model import LinearRegression\n",
    "import matplotlib.pyplot as plt\n",
    "\n",
    "df = pd.read_csv('Sentiment1960_idea.csv')\n",
    "\n",
    "df.head()\n",
    "\n",
    "X = df[['GOP_Pres']]\n",
    "y = df[['Business Condition 12 Months']]\n",
    "\n",
    "results = sm.formula.ols(formula = 'y~X', data = df).fit(cov_type='HC3')\n",
    "print(results.summary())"
   ]
  },
  {
   "cell_type": "code",
   "execution_count": null,
   "id": "d8f823c5-6eee-49a4-a28f-45d401c0fa13",
   "metadata": {},
   "outputs": [],
   "source": []
  }
 ],
 "metadata": {
  "kernelspec": {
   "display_name": "Python 3 (ipykernel)",
   "language": "python",
   "name": "python3"
  },
  "language_info": {
   "codemirror_mode": {
    "name": "ipython",
    "version": 3
   },
   "file_extension": ".py",
   "mimetype": "text/x-python",
   "name": "python",
   "nbconvert_exporter": "python",
   "pygments_lexer": "ipython3",
   "version": "3.10.10"
  }
 },
 "nbformat": 4,
 "nbformat_minor": 5
}
