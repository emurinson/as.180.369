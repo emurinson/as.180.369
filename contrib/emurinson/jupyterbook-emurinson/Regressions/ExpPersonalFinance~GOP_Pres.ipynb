{
 "cells": [
  {
   "cell_type": "code",
   "execution_count": 1,
   "id": "7f58f99b-65ab-493f-965f-614cde0859bf",
   "metadata": {},
   "outputs": [
    {
     "name": "stdout",
     "output_type": "stream",
     "text": [
      "                            OLS Regression Results                            \n",
      "==============================================================================\n",
      "Dep. Variable:                      y   R-squared:                       0.017\n",
      "Model:                            OLS   Adj. R-squared:                  0.001\n",
      "Method:                 Least Squares   F-statistic:                    0.9882\n",
      "Date:                Mon, 27 Nov 2023   Prob (F-statistic):              0.324\n",
      "Time:                        16:07:02   Log-Likelihood:                -234.06\n",
      "No. Observations:                  64   AIC:                             472.1\n",
      "Df Residuals:                      62   BIC:                             476.4\n",
      "Df Model:                           1                                         \n",
      "Covariance Type:                  HC3                                         \n",
      "==============================================================================\n",
      "                 coef    std err          z      P>|z|      [0.025      0.975]\n",
      "------------------------------------------------------------------------------\n",
      "Intercept    120.7581      2.079     58.094      0.000     116.684     124.832\n",
      "X              2.4389      2.453      0.994      0.320      -2.370       7.247\n",
      "==============================================================================\n",
      "Omnibus:                        3.183   Durbin-Watson:                   0.386\n",
      "Prob(Omnibus):                  0.204   Jarque-Bera (JB):                3.085\n",
      "Skew:                          -0.491   Prob(JB):                        0.214\n",
      "Kurtosis:                       2.560   Cond. No.                         2.66\n",
      "==============================================================================\n",
      "\n",
      "Notes:\n",
      "[1] Standard Errors are heteroscedasticity robust (HC3)\n"
     ]
    }
   ],
   "source": [
    "import pandas as pd\n",
    "import pandas_datareader.data as web\n",
    "import statsmodels.api as sm\n",
    "import os\n",
    "import numpy as np\n",
    "from sklearn.model_selection import train_test_split\n",
    "from sklearn.linear_model import LinearRegression\n",
    "import matplotlib.pyplot as plt\n",
    "\n",
    "df = pd.read_csv('Sentiment1960_idea.csv')\n",
    "\n",
    "df.head()\n",
    "\n",
    "X = df[['GOP_Pres']]\n",
    "y = df[['Personal Finance Expected']]\n",
    "\n",
    "results = sm.formula.ols(formula = 'y~X', data = df).fit(cov_type='HC3')\n",
    "print(results.summary())"
   ]
  },
  {
   "cell_type": "code",
   "execution_count": null,
   "id": "189992ff-f2ba-4e23-980e-e73d79aa4126",
   "metadata": {},
   "outputs": [],
   "source": []
  }
 ],
 "metadata": {
  "kernelspec": {
   "display_name": "Python 3 (ipykernel)",
   "language": "python",
   "name": "python3"
  },
  "language_info": {
   "codemirror_mode": {
    "name": "ipython",
    "version": 3
   },
   "file_extension": ".py",
   "mimetype": "text/x-python",
   "name": "python",
   "nbconvert_exporter": "python",
   "pygments_lexer": "ipython3",
   "version": "3.10.10"
  }
 },
 "nbformat": 4,
 "nbformat_minor": 5
}
