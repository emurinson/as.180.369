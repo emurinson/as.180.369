{
 "cells": [
  {
   "cell_type": "code",
   "execution_count": 1,
   "id": "c7fd9dc5-ce21-45f5-9bc2-86309d9509d2",
   "metadata": {},
   "outputs": [
    {
     "name": "stdout",
     "output_type": "stream",
     "text": [
      "                            OLS Regression Results                            \n",
      "==============================================================================\n",
      "Dep. Variable:                      y   R-squared:                       0.142\n",
      "Model:                            OLS   Adj. R-squared:                  0.128\n",
      "Method:                 Least Squares   F-statistic:                     9.396\n",
      "Date:                Mon, 27 Nov 2023   Prob (F-statistic):            0.00322\n",
      "Time:                        16:39:33   Log-Likelihood:                -246.78\n",
      "No. Observations:                  64   AIC:                             497.6\n",
      "Df Residuals:                      62   BIC:                             501.9\n",
      "Df Model:                           1                                         \n",
      "Covariance Type:                  HC3                                         \n",
      "==============================================================================\n",
      "                 coef    std err          z      P>|z|      [0.025      0.975]\n",
      "------------------------------------------------------------------------------\n",
      "Intercept     92.2907      1.753     52.649      0.000      88.855      95.726\n",
      "X              9.9133      3.234      3.065      0.002       3.575      16.252\n",
      "==============================================================================\n",
      "Omnibus:                        6.796   Durbin-Watson:                   0.534\n",
      "Prob(Omnibus):                  0.033   Jarque-Bera (JB):                6.569\n",
      "Skew:                          -0.784   Prob(JB):                       0.0375\n",
      "Kurtosis:                       3.072   Cond. No.                         2.41\n",
      "==============================================================================\n",
      "\n",
      "Notes:\n",
      "[1] Standard Errors are heteroscedasticity robust (HC3)\n"
     ]
    }
   ],
   "source": [
    "import pandas as pd\n",
    "import pandas_datareader.data as web\n",
    "import statsmodels.api as sm\n",
    "import os\n",
    "import numpy as np\n",
    "from sklearn.model_selection import train_test_split\n",
    "from sklearn.linear_model import LinearRegression\n",
    "import matplotlib.pyplot as plt\n",
    "\n",
    "df = pd.read_csv('Sentiment1960_idea.csv')\n",
    "\n",
    "df.head()\n",
    "\n",
    "X = df[['GOP_house']]\n",
    "y = df[['Current Index']]\n",
    "\n",
    "results = sm.formula.ols(formula = 'y~X', data = df).fit(cov_type='HC3')\n",
    "print(results.summary())"
   ]
  },
  {
   "cell_type": "code",
   "execution_count": null,
   "id": "1bd79c45-8193-4db3-a24c-86e5144bdc6a",
   "metadata": {},
   "outputs": [],
   "source": []
  }
 ],
 "metadata": {
  "kernelspec": {
   "display_name": "Python 3 (ipykernel)",
   "language": "python",
   "name": "python3"
  },
  "language_info": {
   "codemirror_mode": {
    "name": "ipython",
    "version": 3
   },
   "file_extension": ".py",
   "mimetype": "text/x-python",
   "name": "python",
   "nbconvert_exporter": "python",
   "pygments_lexer": "ipython3",
   "version": "3.10.10"
  }
 },
 "nbformat": 4,
 "nbformat_minor": 5
}
