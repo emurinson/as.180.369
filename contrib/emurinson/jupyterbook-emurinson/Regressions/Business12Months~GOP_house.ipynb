{
 "cells": [
  {
   "cell_type": "code",
   "execution_count": 1,
   "id": "e264ba85-b8e4-493d-bfcf-b9df2edf381e",
   "metadata": {},
   "outputs": [
    {
     "name": "stdout",
     "output_type": "stream",
     "text": [
      "                            OLS Regression Results                            \n",
      "==============================================================================\n",
      "Dep. Variable:                      y   R-squared:                       0.001\n",
      "Model:                            OLS   Adj. R-squared:                 -0.015\n",
      "Method:                 Least Squares   F-statistic:                   0.04845\n",
      "Date:                Mon, 27 Nov 2023   Prob (F-statistic):              0.826\n",
      "Time:                        16:05:23   Log-Likelihood:                -308.62\n",
      "No. Observations:                  64   AIC:                             621.2\n",
      "Df Residuals:                      62   BIC:                             625.6\n",
      "Df Model:                           1                                         \n",
      "Covariance Type:                  HC3                                         \n",
      "==============================================================================\n",
      "                 coef    std err          z      P>|z|      [0.025      0.975]\n",
      "------------------------------------------------------------------------------\n",
      "Intercept    106.5814      5.110     20.859      0.000      96.567     116.596\n",
      "X              1.6408      7.454      0.220      0.826     -12.969      16.251\n",
      "==============================================================================\n",
      "Omnibus:                        5.350   Durbin-Watson:                   0.455\n",
      "Prob(Omnibus):                  0.069   Jarque-Bera (JB):                2.258\n",
      "Skew:                          -0.040   Prob(JB):                        0.323\n",
      "Kurtosis:                       2.083   Cond. No.                         2.41\n",
      "==============================================================================\n",
      "\n",
      "Notes:\n",
      "[1] Standard Errors are heteroscedasticity robust (HC3)\n"
     ]
    }
   ],
   "source": [
    "import pandas as pd\n",
    "import pandas_datareader.data as web\n",
    "import statsmodels.api as sm\n",
    "import os\n",
    "import numpy as np\n",
    "from sklearn.model_selection import train_test_split\n",
    "from sklearn.linear_model import LinearRegression\n",
    "import matplotlib.pyplot as plt\n",
    "\n",
    "df = pd.read_csv('Sentiment1960_idea.csv')\n",
    "\n",
    "df.head()\n",
    "\n",
    "X = df[['GOP_house']]\n",
    "y = df[['Business Condition 12 Months']]\n",
    "\n",
    "results = sm.formula.ols(formula = 'y~X', data = df).fit(cov_type='HC3')\n",
    "print(results.summary())"
   ]
  },
  {
   "cell_type": "code",
   "execution_count": null,
   "id": "9b742587-411c-4a0f-93f1-66c58db668ae",
   "metadata": {},
   "outputs": [],
   "source": []
  }
 ],
 "metadata": {
  "kernelspec": {
   "display_name": "Python 3 (ipykernel)",
   "language": "python",
   "name": "python3"
  },
  "language_info": {
   "codemirror_mode": {
    "name": "ipython",
    "version": 3
   },
   "file_extension": ".py",
   "mimetype": "text/x-python",
   "name": "python",
   "nbconvert_exporter": "python",
   "pygments_lexer": "ipython3",
   "version": "3.10.10"
  }
 },
 "nbformat": 4,
 "nbformat_minor": 5
}
