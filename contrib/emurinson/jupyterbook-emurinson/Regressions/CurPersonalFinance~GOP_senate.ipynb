{
 "cells": [
  {
   "cell_type": "code",
   "execution_count": 1,
   "id": "ab16f317-1604-481d-9a84-fdd98754a6b6",
   "metadata": {},
   "outputs": [
    {
     "name": "stdout",
     "output_type": "stream",
     "text": [
      "                            OLS Regression Results                            \n",
      "==============================================================================\n",
      "Dep. Variable:                      y   R-squared:                       0.205\n",
      "Model:                            OLS   Adj. R-squared:                  0.192\n",
      "Method:                 Least Squares   F-statistic:                     16.82\n",
      "Date:                Mon, 27 Nov 2023   Prob (F-statistic):           0.000122\n",
      "Time:                        16:12:32   Log-Likelihood:                -255.07\n",
      "No. Observations:                  64   AIC:                             514.1\n",
      "Df Residuals:                      62   BIC:                             518.5\n",
      "Df Model:                           1                                         \n",
      "Covariance Type:                  HC3                                         \n",
      "==============================================================================\n",
      "                 coef    std err          z      P>|z|      [0.025      0.975]\n",
      "------------------------------------------------------------------------------\n",
      "Intercept    102.8542      2.240     45.916      0.000      98.464     107.245\n",
      "X             13.6667      3.332      4.102      0.000       7.136      20.197\n",
      "==============================================================================\n",
      "Omnibus:                        4.841   Durbin-Watson:                   0.571\n",
      "Prob(Omnibus):                  0.089   Jarque-Bera (JB):                4.676\n",
      "Skew:                          -0.658   Prob(JB):                       0.0965\n",
      "Kurtosis:                       2.857   Cond. No.                         2.43\n",
      "==============================================================================\n",
      "\n",
      "Notes:\n",
      "[1] Standard Errors are heteroscedasticity robust (HC3)\n"
     ]
    }
   ],
   "source": [
    "import pandas as pd\n",
    "import pandas_datareader.data as web\n",
    "import statsmodels.api as sm\n",
    "import os\n",
    "import numpy as np\n",
    "from sklearn.model_selection import train_test_split\n",
    "from sklearn.linear_model import LinearRegression\n",
    "import matplotlib.pyplot as plt\n",
    "\n",
    "df = pd.read_csv('Sentiment1960_idea.csv')\n",
    "\n",
    "df.head()\n",
    "\n",
    "X = df[['GOP_senate']]\n",
    "y = df[['Personal Finance Current']]\n",
    "\n",
    "results = sm.formula.ols(formula = 'y~X', data = df).fit(cov_type='HC3')\n",
    "print(results.summary())"
   ]
  },
  {
   "cell_type": "code",
   "execution_count": null,
   "id": "db653ce4-564a-4e8a-bdcc-88e091acffe0",
   "metadata": {},
   "outputs": [],
   "source": []
  }
 ],
 "metadata": {
  "kernelspec": {
   "display_name": "Python 3 (ipykernel)",
   "language": "python",
   "name": "python3"
  },
  "language_info": {
   "codemirror_mode": {
    "name": "ipython",
    "version": 3
   },
   "file_extension": ".py",
   "mimetype": "text/x-python",
   "name": "python",
   "nbconvert_exporter": "python",
   "pygments_lexer": "ipython3",
   "version": "3.10.10"
  }
 },
 "nbformat": 4,
 "nbformat_minor": 5
}
