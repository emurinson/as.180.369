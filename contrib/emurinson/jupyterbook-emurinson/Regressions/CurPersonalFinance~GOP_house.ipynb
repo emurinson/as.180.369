{
 "cells": [
  {
   "cell_type": "code",
   "execution_count": 1,
   "id": "33f0021c-50d9-47ed-bb28-411f98a806c4",
   "metadata": {},
   "outputs": [
    {
     "name": "stdout",
     "output_type": "stream",
     "text": [
      "                            OLS Regression Results                            \n",
      "==============================================================================\n",
      "Dep. Variable:                      y   R-squared:                       0.056\n",
      "Model:                            OLS   Adj. R-squared:                  0.041\n",
      "Method:                 Least Squares   F-statistic:                     3.446\n",
      "Date:                Mon, 27 Nov 2023   Prob (F-statistic):             0.0682\n",
      "Time:                        16:12:50   Log-Likelihood:                -260.57\n",
      "No. Observations:                  64   AIC:                             525.1\n",
      "Df Residuals:                      62   BIC:                             529.5\n",
      "Df Model:                           1                                         \n",
      "Covariance Type:                  HC3                                         \n",
      "==============================================================================\n",
      "                 coef    std err          z      P>|z|      [0.025      0.975]\n",
      "------------------------------------------------------------------------------\n",
      "Intercept    105.5581      2.194     48.115      0.000     101.258     109.858\n",
      "X              7.3784      3.975      1.856      0.063      -0.412      15.169\n",
      "==============================================================================\n",
      "Omnibus:                        5.150   Durbin-Watson:                   0.454\n",
      "Prob(Omnibus):                  0.076   Jarque-Bera (JB):                4.915\n",
      "Skew:                          -0.678   Prob(JB):                       0.0857\n",
      "Kurtosis:                       2.930   Cond. No.                         2.41\n",
      "==============================================================================\n",
      "\n",
      "Notes:\n",
      "[1] Standard Errors are heteroscedasticity robust (HC3)\n"
     ]
    }
   ],
   "source": [
    "import pandas as pd\n",
    "import pandas_datareader.data as web\n",
    "import statsmodels.api as sm\n",
    "import os\n",
    "import numpy as np\n",
    "from sklearn.model_selection import train_test_split\n",
    "from sklearn.linear_model import LinearRegression\n",
    "import matplotlib.pyplot as plt\n",
    "\n",
    "df = pd.read_csv('Sentiment1960_idea.csv')\n",
    "\n",
    "df.head()\n",
    "\n",
    "X = df[['GOP_house']]\n",
    "y = df[['Personal Finance Current']]\n",
    "\n",
    "results = sm.formula.ols(formula = 'y~X', data = df).fit(cov_type='HC3')\n",
    "print(results.summary())"
   ]
  },
  {
   "cell_type": "code",
   "execution_count": null,
   "id": "2f0397ec-f18b-48a2-ad5e-b6283168dea6",
   "metadata": {},
   "outputs": [],
   "source": []
  },
  {
   "cell_type": "code",
   "execution_count": null,
   "id": "beb25338-035a-4e1a-abc0-5fcd7c88d6f2",
   "metadata": {},
   "outputs": [],
   "source": []
  }
 ],
 "metadata": {
  "kernelspec": {
   "display_name": "Python 3 (ipykernel)",
   "language": "python",
   "name": "python3"
  },
  "language_info": {
   "codemirror_mode": {
    "name": "ipython",
    "version": 3
   },
   "file_extension": ".py",
   "mimetype": "text/x-python",
   "name": "python",
   "nbconvert_exporter": "python",
   "pygments_lexer": "ipython3",
   "version": "3.10.10"
  }
 },
 "nbformat": 4,
 "nbformat_minor": 5
}
