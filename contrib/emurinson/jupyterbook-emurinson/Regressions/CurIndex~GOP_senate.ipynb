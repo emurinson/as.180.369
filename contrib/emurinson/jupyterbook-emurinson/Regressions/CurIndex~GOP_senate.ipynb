{
 "cells": [
  {
   "cell_type": "code",
   "execution_count": 1,
   "id": "7a81f267-6ce2-4b01-9e39-96da75a2beee",
   "metadata": {},
   "outputs": [
    {
     "name": "stdout",
     "output_type": "stream",
     "text": [
      "                            OLS Regression Results                            \n",
      "==============================================================================\n",
      "Dep. Variable:                      y   R-squared:                       0.254\n",
      "Model:                            OLS   Adj. R-squared:                  0.242\n",
      "Method:                 Least Squares   F-statistic:                     20.81\n",
      "Date:                Mon, 27 Nov 2023   Prob (F-statistic):           2.45e-05\n",
      "Time:                        16:39:41   Log-Likelihood:                -242.30\n",
      "No. Observations:                  64   AIC:                             488.6\n",
      "Df Residuals:                      62   BIC:                             492.9\n",
      "Df Model:                           1                                         \n",
      "Covariance Type:                  HC3                                         \n",
      "==============================================================================\n",
      "                 coef    std err          z      P>|z|      [0.025      0.975]\n",
      "------------------------------------------------------------------------------\n",
      "Intercept     90.7190      1.760     51.551      0.000      87.270      94.168\n",
      "X             12.8654      2.820      4.562      0.000       7.338      18.393\n",
      "==============================================================================\n",
      "Omnibus:                        7.791   Durbin-Watson:                   0.633\n",
      "Prob(Omnibus):                  0.020   Jarque-Bera (JB):                7.736\n",
      "Skew:                          -0.850   Prob(JB):                       0.0209\n",
      "Kurtosis:                       3.094   Cond. No.                         2.43\n",
      "==============================================================================\n",
      "\n",
      "Notes:\n",
      "[1] Standard Errors are heteroscedasticity robust (HC3)\n"
     ]
    }
   ],
   "source": [
    "import pandas as pd\n",
    "import pandas_datareader.data as web\n",
    "import statsmodels.api as sm\n",
    "import os\n",
    "import numpy as np\n",
    "from sklearn.model_selection import train_test_split\n",
    "from sklearn.linear_model import LinearRegression\n",
    "import matplotlib.pyplot as plt\n",
    "\n",
    "df = pd.read_csv('Sentiment1960_idea.csv')\n",
    "\n",
    "df.head()\n",
    "\n",
    "X = df[['GOP_senate']]\n",
    "y = df[['Current Index']]\n",
    "\n",
    "results = sm.formula.ols(formula = 'y~X', data = df).fit(cov_type='HC3')\n",
    "print(results.summary())"
   ]
  },
  {
   "cell_type": "code",
   "execution_count": null,
   "id": "cfbba588-9f95-4e15-ad37-3e7b3d5304db",
   "metadata": {},
   "outputs": [],
   "source": []
  }
 ],
 "metadata": {
  "kernelspec": {
   "display_name": "Python 3 (ipykernel)",
   "language": "python",
   "name": "python3"
  },
  "language_info": {
   "codemirror_mode": {
    "name": "ipython",
    "version": 3
   },
   "file_extension": ".py",
   "mimetype": "text/x-python",
   "name": "python",
   "nbconvert_exporter": "python",
   "pygments_lexer": "ipython3",
   "version": "3.10.10"
  }
 },
 "nbformat": 4,
 "nbformat_minor": 5
}
