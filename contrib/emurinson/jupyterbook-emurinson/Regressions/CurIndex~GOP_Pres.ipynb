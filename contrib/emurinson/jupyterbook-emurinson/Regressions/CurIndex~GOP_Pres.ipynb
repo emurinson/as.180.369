{
 "cells": [
  {
   "cell_type": "code",
   "execution_count": 1,
   "id": "f8eca7f6-857f-47eb-bb59-38ac4691f961",
   "metadata": {},
   "outputs": [
    {
     "name": "stdout",
     "output_type": "stream",
     "text": [
      "                            OLS Regression Results                            \n",
      "==============================================================================\n",
      "Dep. Variable:                      y   R-squared:                       0.001\n",
      "Model:                            OLS   Adj. R-squared:                 -0.015\n",
      "Method:                 Least Squares   F-statistic:                   0.04762\n",
      "Date:                Mon, 27 Nov 2023   Prob (F-statistic):              0.828\n",
      "Time:                        16:38:49   Log-Likelihood:                -251.66\n",
      "No. Observations:                  64   AIC:                             507.3\n",
      "Df Residuals:                      62   BIC:                             511.6\n",
      "Df Model:                           1                                         \n",
      "Covariance Type:                  HC3                                         \n",
      "==============================================================================\n",
      "                 coef    std err          z      P>|z|      [0.025      0.975]\n",
      "------------------------------------------------------------------------------\n",
      "Intercept     95.1825      2.514     37.863      0.000      90.255     100.110\n",
      "X              0.7000      3.208      0.218      0.827      -5.587       6.987\n",
      "==============================================================================\n",
      "Omnibus:                        3.344   Durbin-Watson:                   0.439\n",
      "Prob(Omnibus):                  0.188   Jarque-Bera (JB):                3.266\n",
      "Skew:                          -0.517   Prob(JB):                        0.195\n",
      "Kurtosis:                       2.604   Cond. No.                         2.66\n",
      "==============================================================================\n",
      "\n",
      "Notes:\n",
      "[1] Standard Errors are heteroscedasticity robust (HC3)\n"
     ]
    }
   ],
   "source": [
    "import pandas as pd\n",
    "import pandas_datareader.data as web\n",
    "import statsmodels.api as sm\n",
    "import os\n",
    "import numpy as np\n",
    "from sklearn.model_selection import train_test_split\n",
    "from sklearn.linear_model import LinearRegression\n",
    "import matplotlib.pyplot as plt\n",
    "\n",
    "df = pd.read_csv('Sentiment1960_idea.csv')\n",
    "\n",
    "df.head()\n",
    "\n",
    "X = df[['GOP_Pres']]\n",
    "y = df[['Current Index']]\n",
    "\n",
    "results = sm.formula.ols(formula = 'y~X', data = df).fit(cov_type='HC3')\n",
    "print(results.summary())"
   ]
  },
  {
   "cell_type": "code",
   "execution_count": null,
   "id": "0fbce558-d176-4c37-91c9-7249ed1c934a",
   "metadata": {},
   "outputs": [],
   "source": [
    "\n"
   ]
  },
  {
   "cell_type": "code",
   "execution_count": null,
   "id": "71d2409c-a4bb-458b-a87e-0f0ecd06c729",
   "metadata": {},
   "outputs": [],
   "source": []
  }
 ],
 "metadata": {
  "kernelspec": {
   "display_name": "Python 3 (ipykernel)",
   "language": "python",
   "name": "python3"
  },
  "language_info": {
   "codemirror_mode": {
    "name": "ipython",
    "version": 3
   },
   "file_extension": ".py",
   "mimetype": "text/x-python",
   "name": "python",
   "nbconvert_exporter": "python",
   "pygments_lexer": "ipython3",
   "version": "3.10.10"
  }
 },
 "nbformat": 4,
 "nbformat_minor": 5
}
