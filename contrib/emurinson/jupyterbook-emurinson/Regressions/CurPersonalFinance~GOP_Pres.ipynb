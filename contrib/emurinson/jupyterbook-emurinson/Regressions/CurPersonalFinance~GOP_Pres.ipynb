{
 "cells": [
  {
   "cell_type": "code",
   "execution_count": 1,
   "id": "1a3ca15b-3878-4605-b873-047b329cf44f",
   "metadata": {},
   "outputs": [
    {
     "name": "stdout",
     "output_type": "stream",
     "text": [
      "                            OLS Regression Results                            \n",
      "==============================================================================\n",
      "Dep. Variable:                      y   R-squared:                       0.004\n",
      "Model:                            OLS   Adj. R-squared:                 -0.012\n",
      "Method:                 Least Squares   F-statistic:                    0.2516\n",
      "Date:                Mon, 27 Nov 2023   Prob (F-statistic):              0.618\n",
      "Time:                        16:11:06   Log-Likelihood:                -262.29\n",
      "No. Observations:                  64   AIC:                             528.6\n",
      "Df Residuals:                      62   BIC:                             532.9\n",
      "Df Model:                           1                                         \n",
      "Covariance Type:                  HC3                                         \n",
      "==============================================================================\n",
      "                 coef    std err          z      P>|z|      [0.025      0.975]\n",
      "------------------------------------------------------------------------------\n",
      "Intercept    106.9973      3.066     34.901      0.000     100.989     113.006\n",
      "X              1.9042      3.797      0.502      0.616      -5.537       9.345\n",
      "==============================================================================\n",
      "Omnibus:                        3.460   Durbin-Watson:                   0.426\n",
      "Prob(Omnibus):                  0.177   Jarque-Bera (JB):                3.169\n",
      "Skew:                          -0.543   Prob(JB):                        0.205\n",
      "Kurtosis:                       2.905   Cond. No.                         2.66\n",
      "==============================================================================\n",
      "\n",
      "Notes:\n",
      "[1] Standard Errors are heteroscedasticity robust (HC3)\n"
     ]
    }
   ],
   "source": [
    "import pandas as pd\n",
    "import pandas_datareader.data as web\n",
    "import statsmodels.api as sm\n",
    "import os\n",
    "import numpy as np\n",
    "from sklearn.model_selection import train_test_split\n",
    "from sklearn.linear_model import LinearRegression\n",
    "import matplotlib.pyplot as plt\n",
    "\n",
    "df = pd.read_csv('Sentiment1960_idea.csv')\n",
    "\n",
    "df.head()\n",
    "\n",
    "X = df[['GOP_Pres']]\n",
    "y = df[['Personal Finance Current']]\n",
    "\n",
    "results = sm.formula.ols(formula = 'y~X', data = df).fit(cov_type='HC3')\n",
    "print(results.summary())"
   ]
  },
  {
   "cell_type": "code",
   "execution_count": null,
   "id": "c2ad2ba4-c5d4-414b-a78a-a7989458c856",
   "metadata": {},
   "outputs": [],
   "source": []
  }
 ],
 "metadata": {
  "kernelspec": {
   "display_name": "Python 3 (ipykernel)",
   "language": "python",
   "name": "python3"
  },
  "language_info": {
   "codemirror_mode": {
    "name": "ipython",
    "version": 3
   },
   "file_extension": ".py",
   "mimetype": "text/x-python",
   "name": "python",
   "nbconvert_exporter": "python",
   "pygments_lexer": "ipython3",
   "version": "3.10.10"
  }
 },
 "nbformat": 4,
 "nbformat_minor": 5
}
