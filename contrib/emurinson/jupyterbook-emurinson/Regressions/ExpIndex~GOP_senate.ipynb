{
 "cells": [
  {
   "cell_type": "code",
   "execution_count": 1,
   "id": "1133e62a-6cea-4717-9407-0d34b0a2d11f",
   "metadata": {},
   "outputs": [
    {
     "name": "stdout",
     "output_type": "stream",
     "text": [
      "                            OLS Regression Results                            \n",
      "==============================================================================\n",
      "Dep. Variable:                      y   R-squared:                       0.077\n",
      "Model:                            OLS   Adj. R-squared:                  0.062\n",
      "Method:                 Least Squares   F-statistic:                     6.110\n",
      "Date:                Mon, 27 Nov 2023   Prob (F-statistic):             0.0162\n",
      "Time:                        16:44:56   Log-Likelihood:                -252.93\n",
      "No. Observations:                  64   AIC:                             509.9\n",
      "Df Residuals:                      62   BIC:                             514.2\n",
      "Df Model:                           1                                         \n",
      "Covariance Type:                  HC3                                         \n",
      "==============================================================================\n",
      "                 coef    std err          z      P>|z|      [0.025      0.975]\n",
      "------------------------------------------------------------------------------\n",
      "Intercept     77.4100      2.303     33.616      0.000      72.897      81.923\n",
      "X              7.5129      3.039      2.472      0.013       1.556      13.470\n",
      "==============================================================================\n",
      "Omnibus:                        1.643   Durbin-Watson:                   0.480\n",
      "Prob(Omnibus):                  0.440   Jarque-Bera (JB):                1.250\n",
      "Skew:                           0.106   Prob(JB):                        0.535\n",
      "Kurtosis:                       2.349   Cond. No.                         2.43\n",
      "==============================================================================\n",
      "\n",
      "Notes:\n",
      "[1] Standard Errors are heteroscedasticity robust (HC3)\n"
     ]
    }
   ],
   "source": [
    "import pandas as pd\n",
    "import pandas_datareader.data as web\n",
    "import statsmodels.api as sm\n",
    "import os\n",
    "import numpy as np\n",
    "from sklearn.model_selection import train_test_split\n",
    "from sklearn.linear_model import LinearRegression\n",
    "import matplotlib.pyplot as plt\n",
    "\n",
    "df = pd.read_csv('Sentiment1960_idea.csv')\n",
    "\n",
    "df.head()\n",
    "\n",
    "X = df[['GOP_senate']]\n",
    "y = df[['Expected Index']]\n",
    "\n",
    "results = sm.formula.ols(formula = 'y~X', data = df).fit(cov_type='HC3')\n",
    "print(results.summary())"
   ]
  },
  {
   "cell_type": "code",
   "execution_count": null,
   "id": "ebd8b0cf-12da-4ace-a2f1-45a96ed7a288",
   "metadata": {},
   "outputs": [],
   "source": []
  }
 ],
 "metadata": {
  "kernelspec": {
   "display_name": "Python 3 (ipykernel)",
   "language": "python",
   "name": "python3"
  },
  "language_info": {
   "codemirror_mode": {
    "name": "ipython",
    "version": 3
   },
   "file_extension": ".py",
   "mimetype": "text/x-python",
   "name": "python",
   "nbconvert_exporter": "python",
   "pygments_lexer": "ipython3",
   "version": "3.10.10"
  }
 },
 "nbformat": 4,
 "nbformat_minor": 5
}
