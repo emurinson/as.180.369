{
 "cells": [
  {
   "cell_type": "code",
   "execution_count": 1,
   "id": "27dcbadb-c88a-45de-919b-15deabc7c64f",
   "metadata": {},
   "outputs": [
    {
     "name": "stdout",
     "output_type": "stream",
     "text": [
      "                            OLS Regression Results                            \n",
      "==============================================================================\n",
      "Dep. Variable:                      y   R-squared:                       0.229\n",
      "Model:                            OLS   Adj. R-squared:                  0.216\n",
      "Method:                 Least Squares   F-statistic:                     18.24\n",
      "Date:                Mon, 27 Nov 2023   Prob (F-statistic):           6.81e-05\n",
      "Time:                        16:19:20   Log-Likelihood:                -275.83\n",
      "No. Observations:                  64   AIC:                             555.7\n",
      "Df Residuals:                      62   BIC:                             560.0\n",
      "Df Model:                           1                                         \n",
      "Covariance Type:                  HC3                                         \n",
      "==============================================================================\n",
      "                 coef    std err          z      P>|z|      [0.025      0.975]\n",
      "------------------------------------------------------------------------------\n",
      "Intercept    131.6354      2.988     44.056      0.000     125.779     137.492\n",
      "X             20.2604      4.744      4.271      0.000      10.962      29.558\n",
      "==============================================================================\n",
      "Omnibus:                       13.524   Durbin-Watson:                   0.564\n",
      "Prob(Omnibus):                  0.001   Jarque-Bera (JB):               14.500\n",
      "Skew:                          -1.090   Prob(JB):                     0.000710\n",
      "Kurtosis:                       3.826   Cond. No.                         2.43\n",
      "==============================================================================\n",
      "\n",
      "Notes:\n",
      "[1] Standard Errors are heteroscedasticity robust (HC3)\n"
     ]
    }
   ],
   "source": [
    "import pandas as pd\n",
    "import pandas_datareader.data as web\n",
    "import statsmodels.api as sm\n",
    "import os\n",
    "import numpy as np\n",
    "from sklearn.model_selection import train_test_split\n",
    "from sklearn.linear_model import LinearRegression\n",
    "import matplotlib.pyplot as plt\n",
    "\n",
    "df = pd.read_csv('Sentiment1960_idea.csv')\n",
    "\n",
    "df.head()\n",
    "\n",
    "X = df[['GOP_senate']]\n",
    "y = df[['Buying Conditions']]\n",
    "\n",
    "results = sm.formula.ols(formula = 'y~X', data = df).fit(cov_type='HC3')\n",
    "print(results.summary())"
   ]
  },
  {
   "cell_type": "code",
   "execution_count": null,
   "id": "69f1bd87-238a-4a94-82d5-47df35f12343",
   "metadata": {},
   "outputs": [],
   "source": []
  }
 ],
 "metadata": {
  "kernelspec": {
   "display_name": "Python 3 (ipykernel)",
   "language": "python",
   "name": "python3"
  },
  "language_info": {
   "codemirror_mode": {
    "name": "ipython",
    "version": 3
   },
   "file_extension": ".py",
   "mimetype": "text/x-python",
   "name": "python",
   "nbconvert_exporter": "python",
   "pygments_lexer": "ipython3",
   "version": "3.10.10"
  }
 },
 "nbformat": 4,
 "nbformat_minor": 5
}
