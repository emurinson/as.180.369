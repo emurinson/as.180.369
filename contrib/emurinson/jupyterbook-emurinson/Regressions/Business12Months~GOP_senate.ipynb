{
 "cells": [
  {
   "cell_type": "code",
   "execution_count": 1,
   "id": "1aaa4a3e-eb80-4c25-a12b-e3d14d8cd47c",
   "metadata": {},
   "outputs": [
    {
     "name": "stdout",
     "output_type": "stream",
     "text": [
      "                            OLS Regression Results                            \n",
      "==============================================================================\n",
      "Dep. Variable:                      y   R-squared:                       0.025\n",
      "Model:                            OLS   Adj. R-squared:                  0.009\n",
      "Method:                 Least Squares   F-statistic:                     1.876\n",
      "Date:                Mon, 27 Nov 2023   Prob (F-statistic):              0.176\n",
      "Time:                        15:56:54   Log-Likelihood:                -307.83\n",
      "No. Observations:                  64   AIC:                             619.7\n",
      "Df Residuals:                      62   BIC:                             624.0\n",
      "Df Model:                           1                                         \n",
      "Covariance Type:                  HC3                                         \n",
      "==============================================================================\n",
      "                 coef    std err          z      P>|z|      [0.025      0.975]\n",
      "------------------------------------------------------------------------------\n",
      "Intercept    103.4417      5.435     19.034      0.000      92.790     114.093\n",
      "X              9.8083      7.162      1.370      0.171      -4.229      23.845\n",
      "==============================================================================\n",
      "Omnibus:                        3.560   Durbin-Watson:                   0.464\n",
      "Prob(Omnibus):                  0.169   Jarque-Bera (JB):                1.893\n",
      "Skew:                           0.105   Prob(JB):                        0.388\n",
      "Kurtosis:                       2.184   Cond. No.                         2.43\n",
      "==============================================================================\n",
      "\n",
      "Notes:\n",
      "[1] Standard Errors are heteroscedasticity robust (HC3)\n"
     ]
    }
   ],
   "source": [
    "import pandas as pd\n",
    "import pandas_datareader.data as web\n",
    "import statsmodels.api as sm\n",
    "import os\n",
    "import numpy as np\n",
    "from sklearn.model_selection import train_test_split\n",
    "from sklearn.linear_model import LinearRegression\n",
    "import matplotlib.pyplot as plt\n",
    "\n",
    "df = pd.read_csv('Sentiment1960_idea.csv')\n",
    "\n",
    "df.head()\n",
    "\n",
    "X = df[['GOP_senate']]\n",
    "y = df[['Business Condition 12 Months']]\n",
    "\n",
    "results = sm.formula.ols(formula = 'y~X', data = df).fit(cov_type='HC3')\n",
    "print(results.summary())"
   ]
  },
  {
   "cell_type": "code",
   "execution_count": null,
   "id": "69bc9a4a-a09c-43f2-8b23-5706bcd7b95f",
   "metadata": {},
   "outputs": [],
   "source": []
  }
 ],
 "metadata": {
  "kernelspec": {
   "display_name": "Python 3 (ipykernel)",
   "language": "python",
   "name": "python3"
  },
  "language_info": {
   "codemirror_mode": {
    "name": "ipython",
    "version": 3
   },
   "file_extension": ".py",
   "mimetype": "text/x-python",
   "name": "python",
   "nbconvert_exporter": "python",
   "pygments_lexer": "ipython3",
   "version": "3.10.10"
  }
 },
 "nbformat": 4,
 "nbformat_minor": 5
}
