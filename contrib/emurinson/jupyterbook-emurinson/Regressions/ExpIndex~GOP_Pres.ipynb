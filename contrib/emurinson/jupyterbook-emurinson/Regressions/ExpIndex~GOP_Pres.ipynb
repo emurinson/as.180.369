{
 "cells": [
  {
   "cell_type": "code",
   "execution_count": 1,
   "id": "84fb9be5-1208-4dde-a0a7-e55d604a4417",
   "metadata": {},
   "outputs": [
    {
     "name": "stdout",
     "output_type": "stream",
     "text": [
      "                            OLS Regression Results                            \n",
      "==============================================================================\n",
      "Dep. Variable:                      y   R-squared:                       0.011\n",
      "Model:                            OLS   Adj. R-squared:                 -0.005\n",
      "Method:                 Least Squares   F-statistic:                    0.6616\n",
      "Date:                Mon, 27 Nov 2023   Prob (F-statistic):              0.419\n",
      "Time:                        16:43:54   Log-Likelihood:                -255.13\n",
      "No. Observations:                  64   AIC:                             514.3\n",
      "Df Residuals:                      62   BIC:                             518.6\n",
      "Df Model:                           1                                         \n",
      "Covariance Type:                  HC3                                         \n",
      "==============================================================================\n",
      "                 coef    std err          z      P>|z|      [0.025      0.975]\n",
      "------------------------------------------------------------------------------\n",
      "Intercept     81.6573      2.884     28.314      0.000      76.005      87.310\n",
      "X             -2.7732      3.409     -0.813      0.416      -9.455       3.909\n",
      "==============================================================================\n",
      "Omnibus:                        4.475   Durbin-Watson:                   0.451\n",
      "Prob(Omnibus):                  0.107   Jarque-Bera (JB):                2.711\n",
      "Skew:                          -0.298   Prob(JB):                        0.258\n",
      "Kurtosis:                       2.187   Cond. No.                         2.66\n",
      "==============================================================================\n",
      "\n",
      "Notes:\n",
      "[1] Standard Errors are heteroscedasticity robust (HC3)\n"
     ]
    }
   ],
   "source": [
    "import pandas as pd\n",
    "import pandas_datareader.data as web\n",
    "import statsmodels.api as sm\n",
    "import os\n",
    "import numpy as np\n",
    "from sklearn.model_selection import train_test_split\n",
    "from sklearn.linear_model import LinearRegression\n",
    "import matplotlib.pyplot as plt\n",
    "\n",
    "df = pd.read_csv('Sentiment1960_idea.csv')\n",
    "\n",
    "df.head()\n",
    "\n",
    "X = df[['GOP_Pres']]\n",
    "y = df[['Expected Index']]\n",
    "\n",
    "results = sm.formula.ols(formula = 'y~X', data = df).fit(cov_type='HC3')\n",
    "print(results.summary())"
   ]
  },
  {
   "cell_type": "code",
   "execution_count": null,
   "id": "f1318e00-f315-4070-a594-cf98e4c29d5a",
   "metadata": {},
   "outputs": [],
   "source": []
  }
 ],
 "metadata": {
  "kernelspec": {
   "display_name": "Python 3 (ipykernel)",
   "language": "python",
   "name": "python3"
  },
  "language_info": {
   "codemirror_mode": {
    "name": "ipython",
    "version": 3
   },
   "file_extension": ".py",
   "mimetype": "text/x-python",
   "name": "python",
   "nbconvert_exporter": "python",
   "pygments_lexer": "ipython3",
   "version": "3.10.10"
  }
 },
 "nbformat": 4,
 "nbformat_minor": 5
}
