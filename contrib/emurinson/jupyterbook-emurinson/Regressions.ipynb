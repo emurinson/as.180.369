{
 "cells": [
  {
   "cell_type": "code",
   "execution_count": 14,
   "id": "96a85f58-1653-4e7c-b523-b9c6957b3620",
   "metadata": {},
   "outputs": [
    {
     "name": "stdout",
     "output_type": "stream",
     "text": [
      "1978-01-01    83.7\n",
      "1978-02-01    84.3\n",
      "1978-03-01    78.8\n",
      "1978-04-01    81.6\n",
      "1978-05-01    82.9\n",
      "              ... \n",
      "2023-03-01    62.0\n",
      "2023-04-01    63.7\n",
      "2023-05-01    59.0\n",
      "2023-06-01    64.2\n",
      "2023-07-01    71.5\n",
      "Length: 547, dtype: float64\n",
      "           Date GOP\n",
      "0    1871-01-01   1\n",
      "1    1871-02-01   1\n",
      "2    1871-03-01   1\n",
      "3    1871-04-01   1\n",
      "4    1871-05-01   1\n",
      "...         ...  ..\n",
      "1826 2023-03-01   0\n",
      "1827 2023-04-01   0\n",
      "1828 2023-05-01   0\n",
      "1829 2023-06-01   0\n",
      "1830 2023-07-01   0\n",
      "\n",
      "[1831 rows x 2 columns]\n"
     ]
    },
    {
     "ename": "KeyError",
     "evalue": "'dependent_variable'",
     "output_type": "error",
     "traceback": [
      "\u001b[0;31m---------------------------------------------------------------------------\u001b[0m",
      "\u001b[0;31mKeyError\u001b[0m                                  Traceback (most recent call last)",
      "File \u001b[0;32m/opt/tljh/user/lib/python3.10/site-packages/pandas/core/indexes/base.py:3653\u001b[0m, in \u001b[0;36mIndex.get_loc\u001b[0;34m(self, key)\u001b[0m\n\u001b[1;32m   3652\u001b[0m \u001b[38;5;28;01mtry\u001b[39;00m:\n\u001b[0;32m-> 3653\u001b[0m     \u001b[38;5;28;01mreturn\u001b[39;00m \u001b[38;5;28;43mself\u001b[39;49m\u001b[38;5;241;43m.\u001b[39;49m\u001b[43m_engine\u001b[49m\u001b[38;5;241;43m.\u001b[39;49m\u001b[43mget_loc\u001b[49m\u001b[43m(\u001b[49m\u001b[43mcasted_key\u001b[49m\u001b[43m)\u001b[49m\n\u001b[1;32m   3654\u001b[0m \u001b[38;5;28;01mexcept\u001b[39;00m \u001b[38;5;167;01mKeyError\u001b[39;00m \u001b[38;5;28;01mas\u001b[39;00m err:\n",
      "File \u001b[0;32m/opt/tljh/user/lib/python3.10/site-packages/pandas/_libs/index.pyx:147\u001b[0m, in \u001b[0;36mpandas._libs.index.IndexEngine.get_loc\u001b[0;34m()\u001b[0m\n",
      "File \u001b[0;32m/opt/tljh/user/lib/python3.10/site-packages/pandas/_libs/index.pyx:176\u001b[0m, in \u001b[0;36mpandas._libs.index.IndexEngine.get_loc\u001b[0;34m()\u001b[0m\n",
      "File \u001b[0;32mpandas/_libs/hashtable_class_helper.pxi:7080\u001b[0m, in \u001b[0;36mpandas._libs.hashtable.PyObjectHashTable.get_item\u001b[0;34m()\u001b[0m\n",
      "File \u001b[0;32mpandas/_libs/hashtable_class_helper.pxi:7088\u001b[0m, in \u001b[0;36mpandas._libs.hashtable.PyObjectHashTable.get_item\u001b[0;34m()\u001b[0m\n",
      "\u001b[0;31mKeyError\u001b[0m: 'dependent_variable'",
      "\nThe above exception was the direct cause of the following exception:\n",
      "\u001b[0;31mKeyError\u001b[0m                                  Traceback (most recent call last)",
      "Cell \u001b[0;32mIn[14], line 49\u001b[0m\n\u001b[1;32m     43\u001b[0m df \u001b[38;5;241m=\u001b[39m pd\u001b[38;5;241m.\u001b[39mmerge(df_sentiment, df_gop, left_on\u001b[38;5;241m=\u001b[39m\u001b[38;5;124m'\u001b[39m\u001b[38;5;124mDate\u001b[39m\u001b[38;5;124m'\u001b[39m, right_on\u001b[38;5;241m=\u001b[39m\u001b[38;5;124m'\u001b[39m\u001b[38;5;124mDate\u001b[39m\u001b[38;5;124m'\u001b[39m)\n\u001b[1;32m     44\u001b[0m \u001b[38;5;66;03m#print(df.head(5))\u001b[39;00m\n\u001b[1;32m     45\u001b[0m \n\u001b[1;32m     46\u001b[0m \u001b[38;5;66;03m#print(df_gop)\u001b[39;00m\n\u001b[1;32m     47\u001b[0m \n\u001b[1;32m     48\u001b[0m \u001b[38;5;66;03m# Replace df with your DataFrame\u001b[39;00m\n\u001b[0;32m---> 49\u001b[0m \u001b[38;5;28mprint\u001b[39m(\u001b[38;5;124m\"\u001b[39m\u001b[38;5;124mShape of endog (Y):\u001b[39m\u001b[38;5;124m\"\u001b[39m, \u001b[43mdf_gop\u001b[49m\u001b[43m[\u001b[49m\u001b[38;5;124;43m'\u001b[39;49m\u001b[38;5;124;43mdependent_variable\u001b[39;49m\u001b[38;5;124;43m'\u001b[39;49m\u001b[43m]\u001b[49m\u001b[38;5;241m.\u001b[39mshape)\n\u001b[1;32m     50\u001b[0m \u001b[38;5;28mprint\u001b[39m(\u001b[38;5;124m\"\u001b[39m\u001b[38;5;124mShape of exog (X):\u001b[39m\u001b[38;5;124m\"\u001b[39m, umscent[\u001b[38;5;124m'\u001b[39m\u001b[38;5;124mindependent_var_1\u001b[39m\u001b[38;5;124m'\u001b[39m, \u001b[38;5;124m'\u001b[39m\u001b[38;5;124mindependent_var_2\u001b[39m\u001b[38;5;124m'\u001b[39m]\u001b[38;5;241m.\u001b[39mshape)\n\u001b[1;32m     52\u001b[0m \u001b[38;5;66;03m# 4. Linear Regression\u001b[39;00m\n",
      "File \u001b[0;32m/opt/tljh/user/lib/python3.10/site-packages/pandas/core/frame.py:3761\u001b[0m, in \u001b[0;36mDataFrame.__getitem__\u001b[0;34m(self, key)\u001b[0m\n\u001b[1;32m   3759\u001b[0m \u001b[38;5;28;01mif\u001b[39;00m \u001b[38;5;28mself\u001b[39m\u001b[38;5;241m.\u001b[39mcolumns\u001b[38;5;241m.\u001b[39mnlevels \u001b[38;5;241m>\u001b[39m \u001b[38;5;241m1\u001b[39m:\n\u001b[1;32m   3760\u001b[0m     \u001b[38;5;28;01mreturn\u001b[39;00m \u001b[38;5;28mself\u001b[39m\u001b[38;5;241m.\u001b[39m_getitem_multilevel(key)\n\u001b[0;32m-> 3761\u001b[0m indexer \u001b[38;5;241m=\u001b[39m \u001b[38;5;28;43mself\u001b[39;49m\u001b[38;5;241;43m.\u001b[39;49m\u001b[43mcolumns\u001b[49m\u001b[38;5;241;43m.\u001b[39;49m\u001b[43mget_loc\u001b[49m\u001b[43m(\u001b[49m\u001b[43mkey\u001b[49m\u001b[43m)\u001b[49m\n\u001b[1;32m   3762\u001b[0m \u001b[38;5;28;01mif\u001b[39;00m is_integer(indexer):\n\u001b[1;32m   3763\u001b[0m     indexer \u001b[38;5;241m=\u001b[39m [indexer]\n",
      "File \u001b[0;32m/opt/tljh/user/lib/python3.10/site-packages/pandas/core/indexes/base.py:3655\u001b[0m, in \u001b[0;36mIndex.get_loc\u001b[0;34m(self, key)\u001b[0m\n\u001b[1;32m   3653\u001b[0m     \u001b[38;5;28;01mreturn\u001b[39;00m \u001b[38;5;28mself\u001b[39m\u001b[38;5;241m.\u001b[39m_engine\u001b[38;5;241m.\u001b[39mget_loc(casted_key)\n\u001b[1;32m   3654\u001b[0m \u001b[38;5;28;01mexcept\u001b[39;00m \u001b[38;5;167;01mKeyError\u001b[39;00m \u001b[38;5;28;01mas\u001b[39;00m err:\n\u001b[0;32m-> 3655\u001b[0m     \u001b[38;5;28;01mraise\u001b[39;00m \u001b[38;5;167;01mKeyError\u001b[39;00m(key) \u001b[38;5;28;01mfrom\u001b[39;00m \u001b[38;5;21;01merr\u001b[39;00m\n\u001b[1;32m   3656\u001b[0m \u001b[38;5;28;01mexcept\u001b[39;00m \u001b[38;5;167;01mTypeError\u001b[39;00m:\n\u001b[1;32m   3657\u001b[0m     \u001b[38;5;66;03m# If we have a listlike key, _check_indexing_error will raise\u001b[39;00m\n\u001b[1;32m   3658\u001b[0m     \u001b[38;5;66;03m#  InvalidIndexError. Otherwise we fall through and re-raise\u001b[39;00m\n\u001b[1;32m   3659\u001b[0m     \u001b[38;5;66;03m#  the TypeError.\u001b[39;00m\n\u001b[1;32m   3660\u001b[0m     \u001b[38;5;28mself\u001b[39m\u001b[38;5;241m.\u001b[39m_check_indexing_error(key)\n",
      "\u001b[0;31mKeyError\u001b[0m: 'dependent_variable'"
     ]
    }
   ],
   "source": [
    "import pandas as pd\n",
    "import pandas_datareader.data as web\n",
    "import statsmodels.api as sm\n",
    "import os\n",
    "\n",
    "# List files in the current directory\n",
    "os.listdir()\n",
    "\n",
    "# 1. Fetch UMCSENT data from FRED\n",
    "from fredapi import Fred\n",
    "fred = Fred(api_key='5e450d83c52ef0ad9cca37fad13d8fab')\n",
    "\n",
    "umcsent = fred.get_series('UMCSENT', observation_start='1978-01-01', observation_end='2023-07-01')\n",
    "print (umcsent)\n",
    "\n",
    "\n",
    "# 2. Load presidential party data\n",
    "# Replace 'your_file.csv' with the actual file path of your CSV file\n",
    "file_path = 'Republican,Pres,Since,1978.csv'\n",
    "\n",
    "# Use the read_csv function to read the CSV file into a DataFrame\n",
    "df = pd.read_csv(file_path,dtype=str)\n",
    "\n",
    "df_gop = pd.DataFrame(temp)\n",
    "\n",
    "# Add a specific day (e.g., the first day of the month)\n",
    "df_gop['Date'] = df_gop['Date'] + '.01'\n",
    "\n",
    "# Convert the complete date string to a datetime object\n",
    "#df_gop['Date'] = datetime.strptime(df_gop['Date'], '%Y-%m-%d')\n",
    "df_gop['Date'] = pd.to_datetime(df_gop['Date'])\n",
    "df_gop['Date'] = df_gop['Date'].dt.normalize()\n",
    "df_gop['Date'] = df_gop['Date'].dt.floor('D')\n",
    "print (df_gop)\n",
    "\n",
    "# 3. Data Preprocessing and Alignment\n",
    "# Merge the datasets, clean and preprocess as needed\n",
    "df_sentiment = pd.DataFrame(data = umcsent, columns=['Consumer Sentiment Index'])\n",
    "df_sentiment = df_sentiment.rename_axis('Date').reset_index()\n",
    "#print(df_sentiment.head(5))\n",
    "\n",
    "# Create new data frame that merges GOP flag with returns data\n",
    "df = pd.merge(df_sentiment, df_gop, left_on='Date', right_on='Date')\n",
    "#print(df.head(5))\n",
    "\n",
    "#print(df_gop)\n",
    "\n",
    "# Replace df with your DataFrame\n",
    "print(\"Shape of endog (Y):\", df_gop['dependent_variable'].shape)\n",
    "print(\"Shape of exog (X):\", umscent['independent_var_1', 'independent_var_2'].shape)\n",
    "\n",
    "# 4. Linear Regression\n",
    "X = pd.to_numeric(df_gop['GOP']).values  # Independent variable\n",
    "X = sm.add_constant(X)  # Add a constant term for the intercept\n",
    "y = umcsent  # Dependent variable\n",
    "\n",
    "#model = sm.OLS(y, X).fit()\n",
    "#print(model.summary())\n",
    "\n",
    "#df['GOPlag'] = df['GOP'].shift()\n",
    "\n",
    "#results = sm.formula.ols(formula = 'sentiment ~ GOPlag', data=df).fit(cov_type='HC3')\n",
    "#print(results.summary())\n",
    "\n"
   ]
  },
  {
   "cell_type": "code",
   "execution_count": 8,
   "id": "8db67921-c871-4be0-9435-d8a63acfa4c9",
   "metadata": {},
   "outputs": [
    {
     "data": {
      "text/plain": [
       "'1'"
      ]
     },
     "execution_count": 8,
     "metadata": {},
     "output_type": "execute_result"
    }
   ],
   "source": [
    "df_gop.dtypes\n",
    "df_gop.iloc[0]['GOP']"
   ]
  },
  {
   "cell_type": "code",
   "execution_count": 10,
   "id": "b52ca1ea-7eb9-4bfb-abc8-3ff15973dc85",
   "metadata": {},
   "outputs": [
    {
     "data": {
      "text/plain": [
       "0       1\n",
       "1       1\n",
       "2       1\n",
       "3       1\n",
       "4       1\n",
       "       ..\n",
       "1826    0\n",
       "1827    0\n",
       "1828    0\n",
       "1829    0\n",
       "1830    0\n",
       "Name: GOP, Length: 1831, dtype: int64"
      ]
     },
     "execution_count": 10,
     "metadata": {},
     "output_type": "execute_result"
    }
   ],
   "source": [
    "pd.to_numeric(df_gop['GOP'])"
   ]
  },
  {
   "cell_type": "code",
   "execution_count": 16,
   "id": "c88d0a32-ab12-40f9-b3cb-6e8ad2455949",
   "metadata": {},
   "outputs": [
    {
     "data": {
      "text/plain": [
       "1831"
      ]
     },
     "execution_count": 16,
     "metadata": {},
     "output_type": "execute_result"
    }
   ],
   "source": [
    "len(X)\n"
   ]
  },
  {
   "cell_type": "code",
   "execution_count": 17,
   "id": "dc9babcc-72a5-4a96-9446-cb6b9c944b9d",
   "metadata": {},
   "outputs": [
    {
     "data": {
      "text/plain": [
       "547"
      ]
     },
     "execution_count": 17,
     "metadata": {},
     "output_type": "execute_result"
    }
   ],
   "source": [
    "len(y)"
   ]
  },
  {
   "cell_type": "code",
   "execution_count": null,
   "id": "2aa73871-a16d-429f-b8d4-4999b0706ffc",
   "metadata": {},
   "outputs": [],
   "source": []
  }
 ],
 "metadata": {
  "kernelspec": {
   "display_name": "Python 3 (ipykernel)",
   "language": "python",
   "name": "python3"
  },
  "language_info": {
   "codemirror_mode": {
    "name": "ipython",
    "version": 3
   },
   "file_extension": ".py",
   "mimetype": "text/x-python",
   "name": "python",
   "nbconvert_exporter": "python",
   "pygments_lexer": "ipython3",
   "version": "3.10.10"
  }
 },
 "nbformat": 4,
 "nbformat_minor": 5
}
