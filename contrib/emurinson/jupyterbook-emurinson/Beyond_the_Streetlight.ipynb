{
 "cells": [
  {
   "cell_type": "markdown",
   "id": "516dce9e-b538-40b5-ba2f-55dbcc4aa340",
   "metadata": {
    "editable": true,
    "slideshow": {
     "slide_type": "slide"
    },
    "tags": []
   },
   "source": [
    "# Consumer Sentiment and Politics\n",
    "\n",
    "\n",
    "### by Eitan Murinson"
   ]
  },
  {
   "cell_type": "markdown",
   "id": "993fe258-214b-46ba-903c-51f1866dfa58",
   "metadata": {
    "editable": true,
    "slideshow": {
     "slide_type": "slide"
    },
    "tags": []
   },
   "source": [
    "<h1 style=\"text-align: center;\">Consumer Sentiment and Politics</h1> <h3 style=\"text-align: center;\">by Eitan Murinson</h3>\n",
    "&nbsp;\n",
    "<h4 style=\"text-align: center;\"></h4>\n",
    "<h5 style=\"text-align: center;\"><strong></strong></h5>\n",
    "<h5 style=\"text-align: center;\"></h5>\n",
    "&nbsp;\n",
    "<h4 style=\"text-align: center;\"></h4> <h4 style=\"text-align: center;\"></h4>\n",
    "<h6 style=\"text-align: center;\"><a\n",
    "href=\"https://github.com/dedwar65/RS100_Discussion\"></a></h6>"
   ]
  },
  {
   "cell_type": "markdown",
   "id": "4c308187-649c-4129-aef9-3d2126f2c41a",
   "metadata": {
    "editable": true,
    "slideshow": {
     "slide_type": "slide"
    },
    "tags": []
   },
   "source": [
    "<h3 style=\"text-align: center;\">Consumer Sentiment and Consumer Spending</h3>\n",
    "\n",
    "- In the U.S., the largest component of GDP is, in general Consumer Spending\n",
    "- According to data from FRED, it has accounted for about 2/3'rds of total GDP in recent years\n"
   ]
  },
  {
   "cell_type": "markdown",
   "id": "ab0bcc19-cef0-4004-84f6-dc742b72e37c",
   "metadata": {
    "editable": true,
    "slideshow": {
     "slide_type": "fragment"
    },
    "tags": []
   },
   "source": [
    "- One of the primary drivers of how consumers spend is how they're feeling about their personal finances and how they're feeling about the economy at large\n",
    "- Thus, economists try to measure these feelings with an indicator called the Index of Consumer Sentiment"
   ]
  },
  {
   "attachments": {},
   "cell_type": "markdown",
   "id": "a56a49b5-6ed0-4651-8793-29dc21242ff2",
   "metadata": {
    "editable": true,
    "slideshow": {
     "slide_type": "slide"
    },
    "tags": []
   },
   "source": [
    "<h3 style=\"text-align: center;\">The University of Michigan Survey</h3>\n",
    "\n",
    "- Each month, the Survey Research Center at UM interviews a minimum of 600 people by phone\n",
    "- The interviewed groups are designed to be statistically representative of all American households\n",
    "  "
   ]
  },
  {
   "cell_type": "markdown",
   "id": "4d0f6b00-2052-49d6-be09-91a72ae9fc06",
   "metadata": {
    "editable": true,
    "slideshow": {
     "slide_type": ""
    },
    "tags": []
   },
   "source": [
    "- Primarily, the survey focuses on three things:\n",
    "<h6 style=\"text-align: indent;\">1. how consumers view prospects for their own financial situation</h6>\n",
    "<h6 style=\"text-align: indent;\">2. how they view prospects for the general economy over the near term</h6>\n",
    "<h6 style=\"text-align: indent;\">3. their view of prospects for the economy over the long term</h6>\n"
   ]
  },
  {
   "cell_type": "markdown",
   "id": "21ea40c0-2935-4e4b-bc6e-b2419412b3d2",
   "metadata": {
    "editable": true,
    "slideshow": {
     "slide_type": "slide"
    },
    "tags": []
   },
   "source": [
    "<h3 style=\"text-align: center;\">But are their expectations rational? </h3>\n",
    "\n",
    "\n"
   ]
  },
  {
   "cell_type": "markdown",
   "id": "8068ec97-3892-4be4-b7f0-29ce0d43b7f4",
   "metadata": {
    "editable": true,
    "slideshow": {
     "slide_type": "fragment"
    },
    "tags": []
   },
   "source": [
    "For doing a vitally important job as well as humanly possible"
   ]
  },
  {
   "cell_type": "code",
   "execution_count": null,
   "id": "0090365d-a00d-4586-aec5-739c55d83ab5",
   "metadata": {
    "editable": true,
    "slideshow": {
     "slide_type": ""
    },
    "tags": []
   },
   "outputs": [],
   "source": []
  }
 ],
 "metadata": {
  "kernelspec": {
   "display_name": "Python 3 (ipykernel)",
   "language": "python",
   "name": "python3"
  },
  "language_info": {
   "codemirror_mode": {
    "name": "ipython",
    "version": 3
   },
   "file_extension": ".py",
   "mimetype": "text/x-python",
   "name": "python",
   "nbconvert_exporter": "python",
   "pygments_lexer": "ipython3",
   "version": "3.10.10"
  }
 },
 "nbformat": 4,
 "nbformat_minor": 5
}
