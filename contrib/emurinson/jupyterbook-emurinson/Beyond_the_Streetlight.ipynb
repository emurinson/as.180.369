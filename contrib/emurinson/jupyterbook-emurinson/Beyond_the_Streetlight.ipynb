{
 "cells": [
  {
   "cell_type": "markdown",
   "id": "516dce9e-b538-40b5-ba2f-55dbcc4aa340",
   "metadata": {
    "editable": true,
    "slideshow": {
     "slide_type": "slide"
    },
    "tags": []
   },
   "source": [
    "# Consumer Sentiment and Politics\n",
    "\n",
    "\n",
    "### by Eitan Murinson"
   ]
  },
  {
   "cell_type": "markdown",
   "id": "993fe258-214b-46ba-903c-51f1866dfa58",
   "metadata": {
    "editable": true,
    "slideshow": {
     "slide_type": "slide"
    },
    "tags": []
   },
   "source": [
    "<h1 style=\"text-align: center;\">Consumer Sentiment and Politics</h1> <h3 style=\"text-align: center;\">by Eitan Murinson</h3>\n",
    "&nbsp;\n",
    "<h4 style=\"text-align: center;\"></h4>\n",
    "<h5 style=\"text-align: center;\"><strong></strong></h5>\n",
    "<h5 style=\"text-align: center;\"></h5>\n",
    "&nbsp;\n",
    "<h4 style=\"text-align: center;\"></h4> <h4 style=\"text-align: center;\"></h4>\n",
    "<h6 style=\"text-align: center;\"><a\n",
    "href=\"https://github.com/dedwar65/RS100_Discussion\"></a></h6>"
   ]
  },
  {
   "cell_type": "markdown",
   "id": "4c308187-649c-4129-aef9-3d2126f2c41a",
   "metadata": {
    "editable": true,
    "slideshow": {
     "slide_type": "slide"
    },
    "tags": []
   },
   "source": [
    "## Thank you to all Federal Reserve Staff"
   ]
  },
  {
   "cell_type": "markdown",
   "id": "a56a49b5-6ed0-4651-8793-29dc21242ff2",
   "metadata": {
    "editable": true,
    "slideshow": {
     "slide_type": "fragment"
    },
    "tags": []
   },
   "source": [
    "#### Past, Present, and Future"
   ]
  },
  {
   "cell_type": "markdown",
   "id": "8068ec97-3892-4be4-b7f0-29ce0d43b7f4",
   "metadata": {
    "editable": true,
    "slideshow": {
     "slide_type": "fragment"
    },
    "tags": []
   },
   "source": [
    "For doing a vitally important job as well as humanly possible"
   ]
  }
 ],
 "metadata": {
  "kernelspec": {
   "display_name": "Python 3 (ipykernel)",
   "language": "python",
   "name": "python3"
  },
  "language_info": {
   "codemirror_mode": {
    "name": "ipython",
    "version": 3
   },
   "file_extension": ".py",
   "mimetype": "text/x-python",
   "name": "python",
   "nbconvert_exporter": "python",
   "pygments_lexer": "ipython3",
   "version": "3.10.10"
  }
 },
 "nbformat": 4,
 "nbformat_minor": 5
}
