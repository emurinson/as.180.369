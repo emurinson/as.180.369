{
 "cells": [
  {
   "cell_type": "markdown",
   "id": "993fe258-214b-46ba-903c-51f1866dfa58",
   "metadata": {
    "editable": true,
    "slideshow": {
     "slide_type": "slide"
    },
    "tags": []
   },
   "source": [
    "<h1 style=\"text-align: center;\">Consumer Confidence and the Political Party in Power</h1> <h3 style=\"text-align: center;\">by Eitan Murinson</h3>\n",
    "&nbsp;\n",
    "<h4 style=\"text-align: center;\"></h4>\n",
    "<h5 style=\"text-align: center;\"><strong></strong></h5>\n",
    "<h5 style=\"text-align: center;\"></h5>\n",
    "&nbsp;\n",
    "<h4 style=\"text-align: center;\"></h4> <h4 style=\"text-align: center;\"></h4>\n",
    "<h6 style=\"text-align: center;\"><a\n",
    "href=\"https://github.com/dedwar65/RS100_Discussion\"></a></h6>"
   ]
  },
  {
   "cell_type": "markdown",
   "id": "9819585e-d514-49d5-bdf2-25410680ede6",
   "metadata": {
    "editable": true,
    "slideshow": {
     "slide_type": "fragment"
    },
    "tags": []
   },
   "source": [
    "<h3 style=\"text-align: center;\">Some numbers</h3>\n"
   ]
  },
  {
   "cell_type": "markdown",
   "id": "d8494220-6e69-4b7f-8ff8-73923da75882",
   "metadata": {
    "editable": true,
    "slideshow": {
     "slide_type": "fragment"
    },
    "tags": []
   },
   "source": [
    "-Our Q3 2023 GDP in billions of $: 27,623.543"
   ]
  },
  {
   "cell_type": "markdown",
   "id": "d714dbaf-36c8-41cb-9950-5f515db5e1ce",
   "metadata": {
    "editable": true,
    "slideshow": {
     "slide_type": "fragment"
    },
    "tags": []
   },
   "source": [
    "-Our Q3 2023 Personal Consumption Expenditure in billions of $: 18,734.3"
   ]
  },
  {
   "cell_type": "markdown",
   "id": "4c308187-649c-4129-aef9-3d2126f2c41a",
   "metadata": {
    "editable": true,
    "slideshow": {
     "slide_type": "slide"
    },
    "tags": []
   },
   "source": [
    "<h3 style=\"text-align: center;\">So...</h3>\n",
    "\n",
    "- By far, U.S. GDP's largest component: Consumer Spending\n",
    "- FRED data: Consumer Spending = 2/3'rds of total GDP since ~2000\n",
    "\n",
    "<img src=\"fredgraph-2.png\" alt=\"Fred Graph\">\n",
    "\n"
   ]
  },
  {
   "cell_type": "markdown",
   "id": "ab0bcc19-cef0-4004-84f6-dc742b72e37c",
   "metadata": {
    "editable": true,
    "slideshow": {
     "slide_type": "fragment"
    },
    "tags": []
   },
   "source": [
    "\n",
    "\n",
    "- Consumer sentiment about finances help economists predict Consumer Spending\n",
    "- Thus, economists try to measure these feelings with an indicators called index of consumer sentiment\n"
   ]
  },
  {
   "attachments": {},
   "cell_type": "markdown",
   "id": "a56a49b5-6ed0-4651-8793-29dc21242ff2",
   "metadata": {
    "editable": true,
    "slideshow": {
     "slide_type": "slide"
    },
    "tags": []
   },
   "source": [
    "<h3 style=\"text-align: center;\">The University of Michigan Survey of Consumer Sentiment</h3>\n",
    "\n",
    "- Consumer sentiment about finances help economists predict Consumer Spending\n",
    "\n",
    "  "
   ]
  },
  {
   "cell_type": "markdown",
   "id": "19f3d010-468a-41cb-a5ee-7cffbcfe637e",
   "metadata": {
    "editable": true,
    "slideshow": {
     "slide_type": "fragment"
    },
    "tags": []
   },
   "source": [
    "- UM phone interviews > 600 Americans each month\n"
   ]
  },
  {
   "cell_type": "markdown",
   "id": "16d18f45-c8ce-4d94-9102-d9bcde8dee92",
   "metadata": {
    "editable": true,
    "slideshow": {
     "slide_type": "fragment"
    },
    "tags": []
   },
   "source": [
    "- Interviewed groups designed to statistically represent all American households"
   ]
  },
  {
   "cell_type": "markdown",
   "id": "4d0f6b00-2052-49d6-be09-91a72ae9fc06",
   "metadata": {
    "editable": true,
    "slideshow": {
     "slide_type": "slide"
    },
    "tags": []
   },
   "source": [
    "- Primarily, the survey focuses on how people view:\n",
    "<h6 style=\"text-align: indent;\">1. their own financial situation: near + long term</h6>\n",
    "<h6 style=\"text-align: indent;\">2. prospects for the general economy over the near term</h6>\n",
    "<h6 style=\"text-align: indent;\">3. prospects for the economy over the long term</h6>\n"
   ]
  },
  {
   "cell_type": "markdown",
   "id": "93b2b0a5-ddab-4789-9ef0-45e26e547a4b",
   "metadata": {
    "editable": true,
    "slideshow": {
     "slide_type": ""
    },
    "tags": []
   },
   "source": [
    "<h3 style=\"text-align: center;\">These sentiments actually forecast where spending will go </h3>\n",
    "\n",
    "- Carroll et al (1994): "
   ]
  },
  {
   "cell_type": "markdown",
   "id": "21ea40c0-2935-4e4b-bc6e-b2419412b3d2",
   "metadata": {
    "editable": true,
    "slideshow": {
     "slide_type": "slide"
    },
    "tags": []
   },
   "source": [
    "\n",
    "\n",
    "<h3 style=\"text-align: center;\">But are their expectations<b></b> rational<b></b>? </h3>\n",
    "\n",
    "\n"
   ]
  },
  {
   "cell_type": "markdown",
   "id": "8068ec97-3892-4be4-b7f0-29ce0d43b7f4",
   "metadata": {
    "editable": true,
    "slideshow": {
     "slide_type": "slide"
    },
    "tags": []
   },
   "source": [
    "<h3 style=\"text-align: center;\">The News Media Model</h3>\n",
    "\n",
    "- In the U.S., <i> Doms, et al. 2004<i>, developed an R-Word Index of words like \"recession\", \"economic slowdown\", \"economic crisis\", etc.\n",
    "- They required one of these words to appear in the headline or sub-headline of a news article, and searched through major U.S. newspapers and magazines for these words\n",
    "- <i> Doms, et al. 2004<i> found that negative consumer sentiment data had a high correlation with negative news media coverage of the economy to show that consumers receive a signal about the economy through the tone and volume of economic\n",
    "reporting\n",
    "- This matters, they say, since they show that in the 1990's especially, news media coverage of the economy was much more negative than the actual economic indicators warranted\n",
    "<h4 style=\"text-align: center;\">So does this mean that people are irrationally affected by news media coverage?</h4>\n"
   ]
  },
  {
   "cell_type": "code",
   "execution_count": null,
   "id": "0090365d-a00d-4586-aec5-739c55d83ab5",
   "metadata": {
    "editable": true,
    "slideshow": {
     "slide_type": "fragment"
    },
    "tags": []
   },
   "outputs": [],
   "source": []
  }
 ],
 "metadata": {
  "kernelspec": {
   "display_name": "Python 3 (ipykernel)",
   "language": "python",
   "name": "python3"
  },
  "language_info": {
   "codemirror_mode": {
    "name": "ipython",
    "version": 3
   },
   "file_extension": ".py",
   "mimetype": "text/x-python",
   "name": "python",
   "nbconvert_exporter": "python",
   "pygments_lexer": "ipython3",
   "version": "3.10.10"
  }
 },
 "nbformat": 4,
 "nbformat_minor": 5
}
