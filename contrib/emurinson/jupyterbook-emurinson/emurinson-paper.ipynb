{
 "cells": [
  {
   "cell_type": "markdown",
   "id": "dcc48050-9fe7-45c8-ad7b-b930353da6d0",
   "metadata": {},
   "source": [
    "# Ethan's paper\n",
    "\n",
    "## Abstract\n",
    "\n",
    "This paper analyzes the efficacy of consumer sentiment as an economic indicator through two primary modes. First, we investigate whether consumer sentiment shifts for reasons that are not necessarily justifiable by a strictly rational analysis of the economic circumstances. To do this, we undertake a survey of the literature connected to the topic of irrational expectations and sentiment. Next, we perform a regression analysis of economic sentiment from the University of Michigan Survey against several different indicators of political party in power to test a relationship between positive consumer sentiment and political party in control. Second, we address the following question: to the extent that consumer sentiment shifts due to irrational expectations, how substantive of an effect does that have on actual economic behavior that affects macroeconomic trends. To do this, we run a further regression analysis of consumer sentiment data versus later consumer spending, inflation data, and employment data. We find that, often, economic actors alter their economic outlook, even irrationally, based on factors such as political party, employment status, and age. As a result, consumer spending is consistently affected proportionately to consumer sentiment. This, in turn, affects larger macroeconomic trends like inflation, employment, and GDP growth. \n",
    "\n",
    "-difficulty is figuring how to determine if something is truly irrational...not just something i think would be irrational"
   ]
  },
  {
   "cell_type": "markdown",
   "id": "632db8c0-fd1a-4461-a967-a846258b7a53",
   "metadata": {},
   "source": [
    "## Introduction\n",
    "In {cite:t}`perez2011python`, we found...\n",
    "Sentence... {cite:p}`perez2011python` .\n",
    "\n",
    "Economic indicators play an important role in nearly all forms of economic analysis. For many of them, what they represent is clear and the relationship they inform us about is easily identified. Take, for instance, GDP. GDP represents the total output produced by all domestic producers in an economy. Because of this, economists can analyze its fluctuations to derive the level of growth in any economy at a given time. Other economic indicators, however, are less straightforward. Consumer sentiment is one of them. \n",
    "\n",
    "Gross Domestic Product, or GDP, is composed of four primary elements: household spending, investment, government spending, and net exports. In recent years, consumer spending has accounted for around 70% of total GDP (https://apps.bea.gov/iTable/?reqid=19&step=2#reqid=19&step=2&isuri=1&1921=survey). As a result, any data we can leverage to help predict trends in consumer spending becomes vastly important in determining overall economic well-being. Since the early 1960's when the University of Michigan's Survey of Consumers was inaugurated, economists and policymakers in the U.S. have generally referred to it and similar measures of consumer sentiment to model their predictions for future consumer spending\n",
    "Consumer sentiment metrics reflect the collective emotions, expectations, and behaviors of consumers and holds the power to shape economic trajectories. However, what if these sentiments are not entirely rational? What if they are influenced by factors such as political affiliation, employment status, or other external variables, resulting in irrational expectations that have far-reaching implications for the economy?\n",
    "\n",
    "This research paper embarks on a journey to unravel the intricate relationship between consumer sentiment and irrational expectations. We aim to shed light on how these irrationalities, often rooted in psychological biases, can significantly impact consumer behavior, consequently shaping macroeconomic trends.\n",
    "\n",
    "Consumer sentiment is not solely determined by objective economic indicators but is often swayed by subjective perceptions and psychological biases. Political affiliation, for instance, can lead individuals to either overly pessimistic or optimistic sentiments based on their political beliefs. Similarly, employment status can cause individuals to view economic conditions through a biased lens, leading to actions that may not align with the objective reality. By delving into these aspects, we seek to understand the extent to which consumer sentiment is influenced by irrational expectations and how this affects actual economic behavior.\n",
    "\n",
    "This paper recognizes the interconnectedness of consumer sentiment with larger macroeconomic trends, such as inflation, employment, and GDP growth. The hypothesis posits that shifts in consumer sentiment, driven by irrational expectations, have substantive and proportionate effects on consumer spending, which, in turn, ripple through the economic system, impacting these macroeconomic indicators.\n",
    "\n",
    "Statistical data and scholarly research underline the interdependence of consumer sentiment and consumer spending. A study conducted by Ludvigson found that changes in consumer sentiment correlated significantly with changes in consumer spending patterns. Consumer sentiment was described as a \"leading indicator of economic behavior,\" with fluctuations in sentiment consistently preceding changes in consumption patterns.\n",
    "\n",
    "In conclusion, this research paper endeavors to explore the multifaceted relationship between consumer sentiment, irrational expectations, and their impact on macroeconomic trends. By examining the role of psychological biases, political affiliation, and employment status in shaping consumer sentiment, we aim to provide valuable insights into understanding and predicting economic behavior. Moreover, through empirical evidence and scholarly quotations, we will substantiate the notion that consumer sentiment is a linchpin in the dynamics of the macroeconomy, influencing inflation, employment, and GDP growth in profound ways. This exploration promises to deepen our comprehension of the intricate workings of the economy and guide policymakers in crafting informed decisions for a more stable and prosperous future.\n"
   ]
  },
  {
   "cell_type": "markdown",
   "id": "efa4f1dc-e3c9-4641-b708-bb6113d2107c",
   "metadata": {},
   "source": [
    "## Literature Review\n",
    "\n",
    "Parker paper: \n",
    "The Parker paper examines how investors with different political affiliations adjusted their portfolio allocations in response to the unexpected outcome of the 2016 US presidential election. The key findings are:\n",
    "\n",
    "Republicans became more optimistic and increased the equity share of their portfolios relative to Democrats following the election. This effect holds even after controlling for differences in income, wealth, demographics, local economic conditions, etc.\n",
    "The results are driven by active rebalancing decisions, not just passive appreciation of existing holdings. Price-constant portfolios that remove valuation changes show the same patterns.\n",
    "The effects are concentrated among a small subset of investors who made large (25%+) changes to their equity allocations. Most investors did not actively trade in response to the election outcome.\n",
    "The portfolio reallocations are consistent with survey evidence showing Republicans became more optimistic and Democrats more pessimistic about future US economic performance after the election.\n",
    "Trading volume increased after the election, supporting models where public events cause heterogeneous belief updating and disagreements that induce trading.\n",
    "Overall the findings suggest investors interpret public signals through the lens of their political identity, updating their beliefs and trading accordingly even though asset prices don't fully reflect their individual views.\n",
    "In summary, the paper provides evidence that differences in beliefs linked to political affiliation help explain investor portfolio choice using the 2016 election as an exogenous shock to beliefs.\n",
    "\n",
    "Carroll Paper Summary: \n",
    "\n",
    "The Carroll paper examines whether consumer sentiment indexes have predictive power for future changes in household consumption expenditures. The key findings are:\n",
    "\n",
    "Lagged values of the University of Michigan Index of Consumer Sentiment (ICS) have explanatory power for current changes in total personal consumption expenditures as well as expenditures on goods and services. The ICS indexes explain around 5-20% of the variation in consumption growth.\n",
    "The ICS indexes contain some incremental predictive information beyond other macroeconomic variables like income growth, interest rates, and stock prices. However, much of the predictive power is shared with these other variables.\n",
    "The predictive ability of sentiment cannot be fully explained by a model where some consumers follow a rule-of-thumb of consuming their current income. Sentiment appears to have a direct effect on consumption separate from predicting income.\n",
    "The results suggest consumer sentiment partly reflects expectations about future income but also contains independent information relevant for consumption decisions. Sentiment may proxy for uncertainty or consumer confidence not captured in other variables.\n",
    "In summary, the paper provides evidence that consumer sentiment surveys have real predictive content for household spending growth in the US. Sentiment indexes likely measure a combination of expectations, uncertainty, confidence and other factors that influence consumption beyond current and expected income.\n",
    "\n",
    "Doms Paper: \n",
    "\n",
    "This paper concludes that tthe news media affects consumers’ perceptions of the economy through three channels. First, the\n",
    "news media conveys the latest economic data and the opinions of professionals to consumers.\n",
    "Second, consumers receive a signal about the economy through the tone and volume of economic\n",
    "reporting. Last, the greater the volume of news about the economy, the greater the likelihood that\n",
    "consumers will update their expectations about the economy. We find evidence that all three of these\n",
    "channels affect consumer sentiment. We derive measures of the tone and volume of economic\n",
    "reporting, building upon the R-word index of The Economist. We find that there are periods when\n",
    "reporting on the economy has not been consistent with actual economic events, especially during the\n",
    "early 1990s. As a consequence, there are times during which consumer sentiment is driven away\n",
    "from what economic fundamentals would suggest. We also find evidence supporting that consumers\n",
    "update their expectations about the economy much more frequently during periods of high news\n",
    "coverage than in periods of low news coverage; high news coverage of the economy is concentrated\n",
    "during recessions and immediately after recessions, implying that “stickiness” in expectations is\n",
    "countercyclical. Finally, because the model of consumer sentiment is highly nonlinear, month-to-\n",
    "month changes in sentiment are difficult to interpret. For instance, although an increase in the\n",
    "number of articles that mention “recession” typically is associated with a decline in \n",
    "\n"
   ]
  },
  {
   "cell_type": "markdown",
   "id": "2137b32f-58b5-4140-8592-8189eedec817",
   "metadata": {},
   "source": [
    "## Methodology\n",
    "\n",
    "Research Design: Describe the overall approach and design of the study, such as whether it is experimental or non-experimental, quantitative or qualitative, or a mixed-methods design. Explain why this design was chosen and how it aligns with the research objectives.\n",
    "\n",
    "Sampling: Describe the target population and the specific sampling technique used to select participants or subjects. Justify the chosen sampling method and discuss any potential limitations or biases.\n",
    "\n",
    "Data Collection: Explain the methods and tools used to collect data, such as surveys, interviews, observations, or experiments. Provide details on how the data were obtained, including the procedure, instruments used, and any measures taken to ensure data validity and reliability.\n",
    "\n",
    "Data Analysis: Outline the techniques and procedures used to analyze the collected data. Specify the statistical or qualitative methods employed to interpret the data and address the research questions or hypotheses. Discuss any software or tools used for data analysis.\n",
    "\n",
    "Ethical Considerations: Discuss any ethical issues related to the research, including informed consent, privacy, confidentiality, and protection of participants rights. Explain how ethical guidelines were followed throughout the study.\n",
    "\n",
    "Limitations: Acknowledge any limitations or constraints that may have affected the studys design, data collection, or analysis. This may include issues such as sample size, response rate, biases, or other factors that could affect the generalizability or validity of the findings.\n",
    "\n",
    "Validity and Reliability: Discuss the measures taken to ensure the validity and reliability of the research. Explain how the research design, data collection methods, and analysis techniques contribute to the credibility and trustworthiness of the findings.\n",
    "\n",
    "The methodology of our studies in this paper mainly consist of: \n",
    "\n",
    "1. an OLE regression analysis of economic sentiment from the University of Michigan Survey against several different indicators of political party in power to test a relationship between positive consumer sentiment and political party in control\n",
    "2. an OLE regression analysis of consumer sentiment data versus later consumer spending, inflation data, and employment data.\n",
    "\n"
   ]
  }
 ],
 "metadata": {
  "kernelspec": {
   "display_name": "Python 3 (ipykernel)",
   "language": "python",
   "name": "python3"
  },
  "language_info": {
   "codemirror_mode": {
    "name": "ipython",
    "version": 3
   },
   "file_extension": ".py",
   "mimetype": "text/x-python",
   "name": "python",
   "nbconvert_exporter": "python",
   "pygments_lexer": "ipython3",
   "version": "3.10.10"
  }
 },
 "nbformat": 4,
 "nbformat_minor": 5
}
