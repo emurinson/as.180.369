{
 "cells": [
  {
   "cell_type": "markdown",
   "id": "3d9c8b7e-ab1f-47d3-906f-438e99e96f83",
   "metadata": {},
   "source": [
    "This paper analyzes the efficacy of consumer sentiment as an economic indicator through two primary modes. First, we investigate whether consumer sentiment shifts for reasons that are not necessarily justifiable by a strictly rational analysis of the economic circumstances. To do this, we undertake a survey of the literature connected to the topic of irrational expectations and sentiment. We find that, often, economic actors alter their economic outlook, even irrationally, based on factors such as political party, employment status, and age. Next, we perform a regression analysis of economic sentiment as reflected by the University of Michigan Survey against presidential political party to test a relationship between ... Second, we address the following question: to the extent that consumer sentiment shifts due to irrational expectations, how substantive of an effect does that have on actual economic behavior that affects macroeconomic trends. To do this, we\n",
    "\n",
    "Economic indicators play a prominent role...but how important are they really. political party, demographic, employment status, etc. \n",
    "\n",
    "Take for instance consumer sentiment...the spending of households--commonly referred to as consumer spending--accounts for "
   ]
  }
 ],
 "metadata": {
  "kernelspec": {
   "display_name": "Python 3 (ipykernel)",
   "language": "python",
   "name": "python3"
  },
  "language_info": {
   "codemirror_mode": {
    "name": "ipython",
    "version": 3
   },
   "file_extension": ".py",
   "mimetype": "text/x-python",
   "name": "python",
   "nbconvert_exporter": "python",
   "pygments_lexer": "ipython3",
   "version": "3.10.10"
  }
 },
 "nbformat": 4,
 "nbformat_minor": 5
}
