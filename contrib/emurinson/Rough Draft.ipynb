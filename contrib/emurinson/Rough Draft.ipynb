{
 "cells": [
  {
   "cell_type": "markdown",
   "id": "3d9c8b7e-ab1f-47d3-906f-438e99e96f83",
   "metadata": {},
   "source": [
    "This paper analyzes the concept of consumer sentiment through a number of different modes and seeks to interpret whether it moves around for reasons that are not necessarily justifiable by a strictly rational analysis of the economic circumstances. To the extent that it does,  we investigate if--to the extent that it does--that has larger economic  implications as reflected First, we undertake a survey of the literature... Then, we perform a regression analysis of presidential...\n",
    "\n",
    "Economic indicators play a prominent role...but how important are they really. political party, demographic, employment status, etc. \n",
    "\n",
    "Take for instance consumer sentiment...the spending of households--commonly referred to as consumer spending--accounts for "
   ]
  }
 ],
 "metadata": {
  "kernelspec": {
   "display_name": "Python 3 (ipykernel)",
   "language": "python",
   "name": "python3"
  },
  "language_info": {
   "codemirror_mode": {
    "name": "ipython",
    "version": 3
   },
   "file_extension": ".py",
   "mimetype": "text/x-python",
   "name": "python",
   "nbconvert_exporter": "python",
   "pygments_lexer": "ipython3",
   "version": "3.10.10"
  }
 },
 "nbformat": 4,
 "nbformat_minor": 5
}
