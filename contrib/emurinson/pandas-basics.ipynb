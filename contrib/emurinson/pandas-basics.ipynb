{
 "cells": [
  {
   "cell_type": "code",
   "execution_count": 7,
   "id": "a15940e5-f181-487f-a101-517ceede1847",
   "metadata": {},
   "outputs": [],
   "source": [
    "import pandas as pd \n",
    "import matplotlib.pyplot as plt\n"
   ]
  },
  {
   "cell_type": "code",
   "execution_count": 2,
   "id": "0d8cc54a-fe3d-4147-b516-8df4a0b4c519",
   "metadata": {},
   "outputs": [
    {
     "data": {
      "text/html": [
       "<div>\n",
       "<style scoped>\n",
       "    .dataframe tbody tr th:only-of-type {\n",
       "        vertical-align: middle;\n",
       "    }\n",
       "\n",
       "    .dataframe tbody tr th {\n",
       "        vertical-align: top;\n",
       "    }\n",
       "\n",
       "    .dataframe thead th {\n",
       "        text-align: right;\n",
       "    }\n",
       "</style>\n",
       "<table border=\"1\" class=\"dataframe\">\n",
       "  <thead>\n",
       "    <tr style=\"text-align: right;\">\n",
       "      <th></th>\n",
       "      <th>eye</th>\n",
       "      <th>hair</th>\n",
       "      <th>height</th>\n",
       "    </tr>\n",
       "  </thead>\n",
       "  <tbody>\n",
       "    <tr>\n",
       "      <th>0</th>\n",
       "      <td>brown</td>\n",
       "      <td>brown</td>\n",
       "      <td>60</td>\n",
       "    </tr>\n",
       "    <tr>\n",
       "      <th>1</th>\n",
       "      <td>green</td>\n",
       "      <td>blonde</td>\n",
       "      <td>72</td>\n",
       "    </tr>\n",
       "    <tr>\n",
       "      <th>2</th>\n",
       "      <td>blue</td>\n",
       "      <td>red</td>\n",
       "      <td>62</td>\n",
       "    </tr>\n",
       "    <tr>\n",
       "      <th>3</th>\n",
       "      <td>blue</td>\n",
       "      <td>blonde</td>\n",
       "      <td>74</td>\n",
       "    </tr>\n",
       "    <tr>\n",
       "      <th>4</th>\n",
       "      <td>brown</td>\n",
       "      <td>brown</td>\n",
       "      <td>80</td>\n",
       "    </tr>\n",
       "    <tr>\n",
       "      <th>5</th>\n",
       "      <td>brown</td>\n",
       "      <td>blue</td>\n",
       "      <td>90</td>\n",
       "    </tr>\n",
       "  </tbody>\n",
       "</table>\n",
       "</div>"
      ],
      "text/plain": [
       "     eye    hair  height\n",
       "0  brown   brown      60\n",
       "1  green  blonde      72\n",
       "2   blue     red      62\n",
       "3   blue  blonde      74\n",
       "4  brown   brown      80\n",
       "5  brown    blue      90"
      ]
     },
     "execution_count": 2,
     "metadata": {},
     "output_type": "execute_result"
    }
   ],
   "source": [
    "\n",
    "\n",
    "import pandas as pd \n",
    "# Create a pandas DataFrame\n",
    "\n",
    "df = pd.DataFrame({\n",
    "    'eye': ['brown', 'green', 'blue', 'blue', 'brown', 'brown'],\n",
    "    'hair': ['brown', 'blonde', 'red', 'blonde', 'brown', 'blue'],\n",
    "    'height': [60,       72,       62,    74,       80,      90  ],\n",
    "    \n",
    "})\n",
    "\n",
    "df\n",
    "\n"
   ]
  },
  {
   "cell_type": "code",
   "execution_count": 9,
   "id": "a9121817-4d64-4f58-b0df-86f8f716283c",
   "metadata": {},
   "outputs": [
    {
     "data": {
      "text/html": [
       "<div>\n",
       "<style scoped>\n",
       "    .dataframe tbody tr th:only-of-type {\n",
       "        vertical-align: middle;\n",
       "    }\n",
       "\n",
       "    .dataframe tbody tr th {\n",
       "        vertical-align: top;\n",
       "    }\n",
       "\n",
       "    .dataframe thead th {\n",
       "        text-align: right;\n",
       "    }\n",
       "</style>\n",
       "<table border=\"1\" class=\"dataframe\">\n",
       "  <thead>\n",
       "    <tr style=\"text-align: right;\">\n",
       "      <th></th>\n",
       "      <th>height</th>\n",
       "      <th>eye</th>\n",
       "    </tr>\n",
       "  </thead>\n",
       "  <tbody>\n",
       "    <tr>\n",
       "      <th>0</th>\n",
       "      <td>60</td>\n",
       "      <td>brown</td>\n",
       "    </tr>\n",
       "    <tr>\n",
       "      <th>1</th>\n",
       "      <td>72</td>\n",
       "      <td>green</td>\n",
       "    </tr>\n",
       "    <tr>\n",
       "      <th>2</th>\n",
       "      <td>62</td>\n",
       "      <td>blue</td>\n",
       "    </tr>\n",
       "    <tr>\n",
       "      <th>3</th>\n",
       "      <td>74</td>\n",
       "      <td>blue</td>\n",
       "    </tr>\n",
       "    <tr>\n",
       "      <th>4</th>\n",
       "      <td>80</td>\n",
       "      <td>brown</td>\n",
       "    </tr>\n",
       "    <tr>\n",
       "      <th>5</th>\n",
       "      <td>90</td>\n",
       "      <td>brown</td>\n",
       "    </tr>\n",
       "  </tbody>\n",
       "</table>\n",
       "</div>"
      ],
      "text/plain": [
       "   height    eye\n",
       "0      60  brown\n",
       "1      72  green\n",
       "2      62   blue\n",
       "3      74   blue\n",
       "4      80  brown\n",
       "5      90  brown"
      ]
     },
     "execution_count": 9,
     "metadata": {},
     "output_type": "execute_result"
    }
   ],
   "source": [
    "df['height'] #select single column\n",
    "df[['height', 'eye']] #select multiple columns"
   ]
  },
  {
   "cell_type": "code",
   "execution_count": 8,
   "id": "d1b15d93-e256-402e-9a78-0037c367a9c1",
   "metadata": {},
   "outputs": [
    {
     "data": {
      "text/plain": [
       "eye       object\n",
       "hair      object\n",
       "height     int64\n",
       "dtype: object"
      ]
     },
     "execution_count": 8,
     "metadata": {},
     "output_type": "execute_result"
    }
   ],
   "source": [
    "df.dtypes"
   ]
  },
  {
   "cell_type": "code",
   "execution_count": 10,
   "id": "c2ca518f-7492-4066-9482-a5b52dcbd061",
   "metadata": {},
   "outputs": [
    {
     "data": {
      "text/plain": [
       "0     True\n",
       "1    False\n",
       "2    False\n",
       "3    False\n",
       "4     True\n",
       "5     True\n",
       "Name: eye, dtype: bool"
      ]
     },
     "execution_count": 10,
     "metadata": {},
     "output_type": "execute_result"
    }
   ],
   "source": [
    "df['eye'] == 'brown' "
   ]
  },
  {
   "cell_type": "code",
   "execution_count": 11,
   "id": "fa8a6659-4f3c-499a-8a8c-e551c2de8fc5",
   "metadata": {},
   "outputs": [
    {
     "data": {
      "text/plain": [
       "0     True\n",
       "1    False\n",
       "2     True\n",
       "3    False\n",
       "4    False\n",
       "5    False\n",
       "Name: height, dtype: bool"
      ]
     },
     "execution_count": 11,
     "metadata": {},
     "output_type": "execute_result"
    }
   ],
   "source": [
    "df ['height'] < 70"
   ]
  },
  {
   "cell_type": "code",
   "execution_count": 15,
   "id": "34a0f93e-4d3e-4aaa-8d39-2d6a982e85aa",
   "metadata": {},
   "outputs": [
    {
     "data": {
      "text/html": [
       "<div>\n",
       "<style scoped>\n",
       "    .dataframe tbody tr th:only-of-type {\n",
       "        vertical-align: middle;\n",
       "    }\n",
       "\n",
       "    .dataframe tbody tr th {\n",
       "        vertical-align: top;\n",
       "    }\n",
       "\n",
       "    .dataframe thead th {\n",
       "        text-align: right;\n",
       "    }\n",
       "</style>\n",
       "<table border=\"1\" class=\"dataframe\">\n",
       "  <thead>\n",
       "    <tr style=\"text-align: right;\">\n",
       "      <th></th>\n",
       "      <th>eye</th>\n",
       "      <th>hair</th>\n",
       "      <th>height</th>\n",
       "    </tr>\n",
       "  </thead>\n",
       "  <tbody>\n",
       "    <tr>\n",
       "      <th>0</th>\n",
       "      <td>brown</td>\n",
       "      <td>brown</td>\n",
       "      <td>60</td>\n",
       "    </tr>\n",
       "    <tr>\n",
       "      <th>2</th>\n",
       "      <td>blue</td>\n",
       "      <td>red</td>\n",
       "      <td>62</td>\n",
       "    </tr>\n",
       "  </tbody>\n",
       "</table>\n",
       "</div>"
      ],
      "text/plain": [
       "     eye   hair  height\n",
       "0  brown  brown      60\n",
       "2   blue    red      62"
      ]
     },
     "execution_count": 15,
     "metadata": {},
     "output_type": "execute_result"
    }
   ],
   "source": [
    "df.loc [df ['height'] < 70] #looks at rows that fit the criterion using T/F values\n"
   ]
  },
  {
   "cell_type": "code",
   "execution_count": 14,
   "id": "f4ca50ea-de13-44ef-8a25-13f847a2326c",
   "metadata": {},
   "outputs": [
    {
     "data": {
      "text/plain": [
       "Index([0, 2], dtype='int64')"
      ]
     },
     "execution_count": 14,
     "metadata": {},
     "output_type": "execute_result"
    }
   ],
   "source": [
    "df.loc [df ['height'] < 70].index #returns the row numbers"
   ]
  },
  {
   "cell_type": "code",
   "execution_count": 17,
   "id": "2ef87f5f-9930-466a-ab41-9a9c64dc32d8",
   "metadata": {},
   "outputs": [
    {
     "data": {
      "text/plain": [
       "0     True\n",
       "1    False\n",
       "2    False\n",
       "3    False\n",
       "4    False\n",
       "5    False\n",
       "dtype: bool"
      ]
     },
     "execution_count": 17,
     "metadata": {},
     "output_type": "execute_result"
    }
   ],
   "source": [
    "(df ['height'] < 70) & (df['eye'] == 'brown' )"
   ]
  },
  {
   "cell_type": "code",
   "execution_count": 18,
   "id": "18203849-4e79-4dd6-9b40-1f05b0fcb415",
   "metadata": {},
   "outputs": [
    {
     "data": {
      "text/plain": [
       "0     80\n",
       "1     92\n",
       "2     82\n",
       "3     94\n",
       "4    100\n",
       "5    110\n",
       "Name: height, dtype: int64"
      ]
     },
     "execution_count": 18,
     "metadata": {},
     "output_type": "execute_result"
    }
   ],
   "source": [
    "df ['height'] +20"
   ]
  },
  {
   "cell_type": "code",
   "execution_count": 19,
   "id": "a6e88f92-5807-4005-924f-0373c68b50e9",
   "metadata": {},
   "outputs": [
    {
     "data": {
      "text/html": [
       "<div>\n",
       "<style scoped>\n",
       "    .dataframe tbody tr th:only-of-type {\n",
       "        vertical-align: middle;\n",
       "    }\n",
       "\n",
       "    .dataframe tbody tr th {\n",
       "        vertical-align: top;\n",
       "    }\n",
       "\n",
       "    .dataframe thead th {\n",
       "        text-align: right;\n",
       "    }\n",
       "</style>\n",
       "<table border=\"1\" class=\"dataframe\">\n",
       "  <thead>\n",
       "    <tr style=\"text-align: right;\">\n",
       "      <th></th>\n",
       "      <th>height</th>\n",
       "    </tr>\n",
       "  </thead>\n",
       "  <tbody>\n",
       "    <tr>\n",
       "      <th>0</th>\n",
       "      <td>60</td>\n",
       "    </tr>\n",
       "    <tr>\n",
       "      <th>1</th>\n",
       "      <td>72</td>\n",
       "    </tr>\n",
       "    <tr>\n",
       "      <th>2</th>\n",
       "      <td>62</td>\n",
       "    </tr>\n",
       "    <tr>\n",
       "      <th>3</th>\n",
       "      <td>74</td>\n",
       "    </tr>\n",
       "    <tr>\n",
       "      <th>4</th>\n",
       "      <td>80</td>\n",
       "    </tr>\n",
       "    <tr>\n",
       "      <th>5</th>\n",
       "      <td>90</td>\n",
       "    </tr>\n",
       "  </tbody>\n",
       "</table>\n",
       "</div>"
      ],
      "text/plain": [
       "   height\n",
       "0      60\n",
       "1      72\n",
       "2      62\n",
       "3      74\n",
       "4      80\n",
       "5      90"
      ]
     },
     "execution_count": 19,
     "metadata": {},
     "output_type": "execute_result"
    }
   ],
   "source": [
    "df.select_dtypes('number')#tells you columns that have number in them"
   ]
  },
  {
   "cell_type": "code",
   "execution_count": 20,
   "id": "b252315a-8e4f-4579-8135-153cfec004ac",
   "metadata": {},
   "outputs": [
    {
     "data": {
      "text/plain": [
       "0    60inches\n",
       "1    72inches\n",
       "2    62inches\n",
       "3    74inches\n",
       "4    80inches\n",
       "5    90inches\n",
       "Name: height, dtype: object"
      ]
     },
     "execution_count": 20,
     "metadata": {},
     "output_type": "execute_result"
    }
   ],
   "source": [
    "df ['height'].astype(str) + 'inches'"
   ]
  },
  {
   "cell_type": "code",
   "execution_count": 21,
   "id": "b132cede-77d6-42dd-a5cc-80e305ca012e",
   "metadata": {},
   "outputs": [
    {
     "data": {
      "text/plain": [
       "0.25    64.5\n",
       "0.50    73.0\n",
       "0.75    78.5\n",
       "Name: height, dtype: float64"
      ]
     },
     "execution_count": 21,
     "metadata": {},
     "output_type": "execute_result"
    }
   ],
   "source": [
    "df ['height'].quantile([.25, .5, .75])"
   ]
  },
  {
   "cell_type": "code",
   "execution_count": 22,
   "id": "da06f41a-b389-4bc3-bba5-9917da4b14af",
   "metadata": {},
   "outputs": [
    {
     "data": {
      "text/plain": [
       "90"
      ]
     },
     "execution_count": 22,
     "metadata": {},
     "output_type": "execute_result"
    }
   ],
   "source": [
    "df ['height'].max()"
   ]
  },
  {
   "cell_type": "code",
   "execution_count": 23,
   "id": "14f2ac59-2002-40ae-9f3b-7fabc2c4e9c8",
   "metadata": {},
   "outputs": [
    {
     "data": {
      "text/plain": [
       "73.0"
      ]
     },
     "execution_count": 23,
     "metadata": {},
     "output_type": "execute_result"
    }
   ],
   "source": [
    "df ['height'].mean()"
   ]
  },
  {
   "cell_type": "code",
   "execution_count": 24,
   "id": "4f959362-13a2-45f7-abd4-87fdc45d182e",
   "metadata": {},
   "outputs": [
    {
     "data": {
      "text/plain": [
       "11.224972160321824"
      ]
     },
     "execution_count": 24,
     "metadata": {},
     "output_type": "execute_result"
    }
   ],
   "source": [
    "df ['height'].std()\n",
    "df ['height'].max(ddof=0) #changes something about std dev."
   ]
  },
  {
   "cell_type": "code",
   "execution_count": 27,
   "id": "0deb28a1-24d2-48e1-b705-4a1a1152ad87",
   "metadata": {},
   "outputs": [
    {
     "data": {
      "text/plain": [
       "1960-01-01      3.418156\n",
       "1960-02-01      3.255919\n",
       "1960-03-01      3.205570\n",
       "1960-04-01      3.233542\n",
       "1960-05-01      3.205570\n",
       "                 ...    \n",
       "2023-03-01    141.134556\n",
       "2023-04-01    145.176059\n",
       "2023-05-01    142.583249\n",
       "2023-06-01    145.834377\n",
       "2023-07-01    150.752045\n",
       "Length: 763, dtype: float64"
      ]
     },
     "execution_count": 27,
     "metadata": {},
     "output_type": "execute_result"
    }
   ],
   "source": [
    "from fredapi import Fred\n",
    "fred = Fred(api_key = '5e450d83c52ef0ad9cca37fad13d8fab')\n",
    "oecd_series = fred.get_series('SPASTT01USM661N', observation_start='1960-01-01', observation_end='2023-07-01')\n",
    "\n",
    "oecd_series"
   ]
  },
  {
   "cell_type": "code",
   "execution_count": 28,
   "id": "b34ebfcb-22d6-4dc7-bc0f-ddc59723118e",
   "metadata": {},
   "outputs": [
    {
     "data": {
      "text/plain": [
       "1960-01-01     29.370\n",
       "1960-02-01     29.410\n",
       "1960-03-01     29.410\n",
       "1960-04-01     29.540\n",
       "1960-05-01     29.570\n",
       "               ...   \n",
       "2023-03-01    301.808\n",
       "2023-04-01    302.918\n",
       "2023-05-01    303.294\n",
       "2023-06-01    303.841\n",
       "2023-07-01    304.348\n",
       "Length: 763, dtype: float64"
      ]
     },
     "execution_count": 28,
     "metadata": {},
     "output_type": "execute_result"
    }
   ],
   "source": [
    "cpi_series = fred.get_series('CPIAUCSL', observation_start='1960-01-01', observation_end='2023-07-01')\n",
    "\n",
    "cpi_series"
   ]
  },
  {
   "cell_type": "code",
   "execution_count": 32,
   "id": "c5985470-e401-47f6-a299-75032f7b5d1b",
   "metadata": {},
   "outputs": [
    {
     "data": {
      "text/html": [
       "<div>\n",
       "<style scoped>\n",
       "    .dataframe tbody tr th:only-of-type {\n",
       "        vertical-align: middle;\n",
       "    }\n",
       "\n",
       "    .dataframe tbody tr th {\n",
       "        vertical-align: top;\n",
       "    }\n",
       "\n",
       "    .dataframe thead th {\n",
       "        text-align: right;\n",
       "    }\n",
       "</style>\n",
       "<table border=\"1\" class=\"dataframe\">\n",
       "  <thead>\n",
       "    <tr style=\"text-align: right;\">\n",
       "      <th></th>\n",
       "      <th>OECD</th>\n",
       "      <th>CPI</th>\n",
       "    </tr>\n",
       "  </thead>\n",
       "  <tbody>\n",
       "    <tr>\n",
       "      <th>1960-01-01</th>\n",
       "      <td>3.418156</td>\n",
       "      <td>29.370</td>\n",
       "    </tr>\n",
       "    <tr>\n",
       "      <th>1960-02-01</th>\n",
       "      <td>3.255919</td>\n",
       "      <td>29.410</td>\n",
       "    </tr>\n",
       "    <tr>\n",
       "      <th>1960-03-01</th>\n",
       "      <td>3.205570</td>\n",
       "      <td>29.410</td>\n",
       "    </tr>\n",
       "    <tr>\n",
       "      <th>1960-04-01</th>\n",
       "      <td>3.233542</td>\n",
       "      <td>29.540</td>\n",
       "    </tr>\n",
       "    <tr>\n",
       "      <th>1960-05-01</th>\n",
       "      <td>3.205570</td>\n",
       "      <td>29.570</td>\n",
       "    </tr>\n",
       "    <tr>\n",
       "      <th>...</th>\n",
       "      <td>...</td>\n",
       "      <td>...</td>\n",
       "    </tr>\n",
       "    <tr>\n",
       "      <th>2023-03-01</th>\n",
       "      <td>141.134556</td>\n",
       "      <td>301.808</td>\n",
       "    </tr>\n",
       "    <tr>\n",
       "      <th>2023-04-01</th>\n",
       "      <td>145.176059</td>\n",
       "      <td>302.918</td>\n",
       "    </tr>\n",
       "    <tr>\n",
       "      <th>2023-05-01</th>\n",
       "      <td>142.583249</td>\n",
       "      <td>303.294</td>\n",
       "    </tr>\n",
       "    <tr>\n",
       "      <th>2023-06-01</th>\n",
       "      <td>145.834377</td>\n",
       "      <td>303.841</td>\n",
       "    </tr>\n",
       "    <tr>\n",
       "      <th>2023-07-01</th>\n",
       "      <td>150.752045</td>\n",
       "      <td>304.348</td>\n",
       "    </tr>\n",
       "  </tbody>\n",
       "</table>\n",
       "<p>763 rows × 2 columns</p>\n",
       "</div>"
      ],
      "text/plain": [
       "                  OECD      CPI\n",
       "1960-01-01    3.418156   29.370\n",
       "1960-02-01    3.255919   29.410\n",
       "1960-03-01    3.205570   29.410\n",
       "1960-04-01    3.233542   29.540\n",
       "1960-05-01    3.205570   29.570\n",
       "...                ...      ...\n",
       "2023-03-01  141.134556  301.808\n",
       "2023-04-01  145.176059  302.918\n",
       "2023-05-01  142.583249  303.294\n",
       "2023-06-01  145.834377  303.841\n",
       "2023-07-01  150.752045  304.348\n",
       "\n",
       "[763 rows x 2 columns]"
      ]
     },
     "execution_count": 32,
     "metadata": {},
     "output_type": "execute_result"
    }
   ],
   "source": [
    "fred_df = pd.DataFrame({\n",
    "    'OECD': oecd_series,\n",
    "    'CPI': cpi_series\n",
    " })\n",
    "\n",
    "fred_df"
   ]
  },
  {
   "cell_type": "code",
   "execution_count": 33,
   "id": "44c2e714-fefc-4c78-bfef-c76edb0ce761",
   "metadata": {},
   "outputs": [
    {
     "data": {
      "text/plain": [
       "203.437"
      ]
     },
     "execution_count": 33,
     "metadata": {},
     "output_type": "execute_result"
    }
   ],
   "source": [
    "fred_df.loc['2007-01-01']['CPI']\n"
   ]
  },
  {
   "cell_type": "code",
   "execution_count": null,
   "id": "39a69a24-8c29-4e3d-b1f2-0f09f9caae4a",
   "metadata": {},
   "outputs": [],
   "source": [
    "fred_df['CPI_adj'] = 1\n",
    "fred_df['CPI_adj'] = fred_df['CPI']\n"
   ]
  },
  {
   "cell_type": "code",
   "execution_count": 12,
   "id": "abe4b750-7975-4012-ae8b-fb80e734c53e",
   "metadata": {},
   "outputs": [
    {
     "name": "stdout",
     "output_type": "stream",
     "text": [
      "        Date  Sentiment Index Val\n",
      "0 1978-01-01                 83.7\n",
      "1 1978-02-01                 84.3\n",
      "2 1978-03-01                 78.8\n",
      "3 1978-04-01                 81.6\n",
      "4 1978-05-01                 82.9\n",
      "<bound method NDFrame.head of            Date GOP\n",
      "0    1871-01-01   1\n",
      "1    1871-02-01   1\n",
      "2    1871-03-01   1\n",
      "3    1871-04-01   1\n",
      "4    1871-05-01   1\n",
      "...         ...  ..\n",
      "1826 2023-03-01   0\n",
      "1827 2023-04-01   0\n",
      "1828 2023-05-01   0\n",
      "1829 2023-06-01   0\n",
      "1830 2023-07-01   0\n",
      "\n",
      "[1831 rows x 2 columns]>\n",
      "     eye    hair  height\n",
      "0  brown   brown      60\n",
      "1  green  blonde      72\n",
      "2   blue     red      62\n",
      "3   blue  blonde      74\n",
      "4  brown   brown      80\n"
     ]
    },
    {
     "ename": "KeyError",
     "evalue": "'GOP'",
     "output_type": "error",
     "traceback": [
      "\u001b[0;31m---------------------------------------------------------------------------\u001b[0m",
      "\u001b[0;31mKeyError\u001b[0m                                  Traceback (most recent call last)",
      "File \u001b[0;32m/opt/tljh/user/lib/python3.10/site-packages/pandas/core/indexes/base.py:3653\u001b[0m, in \u001b[0;36mIndex.get_loc\u001b[0;34m(self, key)\u001b[0m\n\u001b[1;32m   3652\u001b[0m \u001b[38;5;28;01mtry\u001b[39;00m:\n\u001b[0;32m-> 3653\u001b[0m     \u001b[38;5;28;01mreturn\u001b[39;00m \u001b[38;5;28;43mself\u001b[39;49m\u001b[38;5;241;43m.\u001b[39;49m\u001b[43m_engine\u001b[49m\u001b[38;5;241;43m.\u001b[39;49m\u001b[43mget_loc\u001b[49m\u001b[43m(\u001b[49m\u001b[43mcasted_key\u001b[49m\u001b[43m)\u001b[49m\n\u001b[1;32m   3654\u001b[0m \u001b[38;5;28;01mexcept\u001b[39;00m \u001b[38;5;167;01mKeyError\u001b[39;00m \u001b[38;5;28;01mas\u001b[39;00m err:\n",
      "File \u001b[0;32m/opt/tljh/user/lib/python3.10/site-packages/pandas/_libs/index.pyx:147\u001b[0m, in \u001b[0;36mpandas._libs.index.IndexEngine.get_loc\u001b[0;34m()\u001b[0m\n",
      "File \u001b[0;32m/opt/tljh/user/lib/python3.10/site-packages/pandas/_libs/index.pyx:176\u001b[0m, in \u001b[0;36mpandas._libs.index.IndexEngine.get_loc\u001b[0;34m()\u001b[0m\n",
      "File \u001b[0;32mpandas/_libs/hashtable_class_helper.pxi:7080\u001b[0m, in \u001b[0;36mpandas._libs.hashtable.PyObjectHashTable.get_item\u001b[0;34m()\u001b[0m\n",
      "File \u001b[0;32mpandas/_libs/hashtable_class_helper.pxi:7088\u001b[0m, in \u001b[0;36mpandas._libs.hashtable.PyObjectHashTable.get_item\u001b[0;34m()\u001b[0m\n",
      "\u001b[0;31mKeyError\u001b[0m: 'GOP'",
      "\nThe above exception was the direct cause of the following exception:\n",
      "\u001b[0;31mKeyError\u001b[0m                                  Traceback (most recent call last)",
      "Cell \u001b[0;32mIn[12], line 49\u001b[0m\n\u001b[1;32m     47\u001b[0m \u001b[38;5;66;03m# set up figure, axis\u001b[39;00m\n\u001b[1;32m     48\u001b[0m f, ax \u001b[38;5;241m=\u001b[39m plt\u001b[38;5;241m.\u001b[39msubplots(figsize\u001b[38;5;241m=\u001b[39m(\u001b[38;5;241m12\u001b[39m, \u001b[38;5;241m6\u001b[39m))\n\u001b[0;32m---> 49\u001b[0m \u001b[43mplot_series\u001b[49m\u001b[43m(\u001b[49m\u001b[43max\u001b[49m\u001b[43m,\u001b[49m\u001b[43m \u001b[49m\u001b[43mdf\u001b[49m\u001b[43m)\u001b[49m\n\u001b[1;32m     50\u001b[0m ax\u001b[38;5;241m.\u001b[39mset_title(\u001b[38;5;124m'\u001b[39m\u001b[38;5;124mConsumer sentiment and GOP Presidencies\u001b[39m\u001b[38;5;124m'\u001b[39m, loc\u001b[38;5;241m=\u001b[39m\u001b[38;5;124m'\u001b[39m\u001b[38;5;124mleft\u001b[39m\u001b[38;5;124m'\u001b[39m)\n\u001b[1;32m     52\u001b[0m \u001b[38;5;66;03m# ax.grid(visible=False)\u001b[39;00m\n",
      "Cell \u001b[0;32mIn[12], line 35\u001b[0m, in \u001b[0;36mplot_series\u001b[0;34m(ax, df, index, cols, area)\u001b[0m\n\u001b[1;32m     33\u001b[0m \u001b[38;5;28;01mdef\u001b[39;00m \u001b[38;5;21mplot_series\u001b[39m(ax, df, index\u001b[38;5;241m=\u001b[39m\u001b[38;5;124m'\u001b[39m\u001b[38;5;124mDate\u001b[39m\u001b[38;5;124m'\u001b[39m, cols\u001b[38;5;241m=\u001b[39m[\u001b[38;5;124m'\u001b[39m\u001b[38;5;124mSentiment Index Val\u001b[39m\u001b[38;5;124m'\u001b[39m], area\u001b[38;5;241m=\u001b[39m\u001b[38;5;124m'\u001b[39m\u001b[38;5;124mGOP\u001b[39m\u001b[38;5;124m'\u001b[39m):\n\u001b[1;32m     34\u001b[0m     \u001b[38;5;66;03m# convert area variable to boolean\u001b[39;00m\n\u001b[0;32m---> 35\u001b[0m     df[area] \u001b[38;5;241m=\u001b[39m \u001b[43mdf\u001b[49m\u001b[43m[\u001b[49m\u001b[43marea\u001b[49m\u001b[43m]\u001b[49m\u001b[38;5;241m.\u001b[39mastype(\u001b[38;5;28mint\u001b[39m)\u001b[38;5;241m.\u001b[39mastype(\u001b[38;5;28mbool\u001b[39m)\n\u001b[1;32m     36\u001b[0m     \u001b[38;5;66;03m# set up an index based on date\u001b[39;00m\n\u001b[1;32m     37\u001b[0m     df \u001b[38;5;241m=\u001b[39m df\u001b[38;5;241m.\u001b[39mset_index(keys\u001b[38;5;241m=\u001b[39mindex, drop\u001b[38;5;241m=\u001b[39m\u001b[38;5;28;01mFalse\u001b[39;00m)\n",
      "File \u001b[0;32m/opt/tljh/user/lib/python3.10/site-packages/pandas/core/frame.py:3761\u001b[0m, in \u001b[0;36mDataFrame.__getitem__\u001b[0;34m(self, key)\u001b[0m\n\u001b[1;32m   3759\u001b[0m \u001b[38;5;28;01mif\u001b[39;00m \u001b[38;5;28mself\u001b[39m\u001b[38;5;241m.\u001b[39mcolumns\u001b[38;5;241m.\u001b[39mnlevels \u001b[38;5;241m>\u001b[39m \u001b[38;5;241m1\u001b[39m:\n\u001b[1;32m   3760\u001b[0m     \u001b[38;5;28;01mreturn\u001b[39;00m \u001b[38;5;28mself\u001b[39m\u001b[38;5;241m.\u001b[39m_getitem_multilevel(key)\n\u001b[0;32m-> 3761\u001b[0m indexer \u001b[38;5;241m=\u001b[39m \u001b[38;5;28;43mself\u001b[39;49m\u001b[38;5;241;43m.\u001b[39;49m\u001b[43mcolumns\u001b[49m\u001b[38;5;241;43m.\u001b[39;49m\u001b[43mget_loc\u001b[49m\u001b[43m(\u001b[49m\u001b[43mkey\u001b[49m\u001b[43m)\u001b[49m\n\u001b[1;32m   3762\u001b[0m \u001b[38;5;28;01mif\u001b[39;00m is_integer(indexer):\n\u001b[1;32m   3763\u001b[0m     indexer \u001b[38;5;241m=\u001b[39m [indexer]\n",
      "File \u001b[0;32m/opt/tljh/user/lib/python3.10/site-packages/pandas/core/indexes/base.py:3655\u001b[0m, in \u001b[0;36mIndex.get_loc\u001b[0;34m(self, key)\u001b[0m\n\u001b[1;32m   3653\u001b[0m     \u001b[38;5;28;01mreturn\u001b[39;00m \u001b[38;5;28mself\u001b[39m\u001b[38;5;241m.\u001b[39m_engine\u001b[38;5;241m.\u001b[39mget_loc(casted_key)\n\u001b[1;32m   3654\u001b[0m \u001b[38;5;28;01mexcept\u001b[39;00m \u001b[38;5;167;01mKeyError\u001b[39;00m \u001b[38;5;28;01mas\u001b[39;00m err:\n\u001b[0;32m-> 3655\u001b[0m     \u001b[38;5;28;01mraise\u001b[39;00m \u001b[38;5;167;01mKeyError\u001b[39;00m(key) \u001b[38;5;28;01mfrom\u001b[39;00m \u001b[38;5;21;01merr\u001b[39;00m\n\u001b[1;32m   3656\u001b[0m \u001b[38;5;28;01mexcept\u001b[39;00m \u001b[38;5;167;01mTypeError\u001b[39;00m:\n\u001b[1;32m   3657\u001b[0m     \u001b[38;5;66;03m# If we have a listlike key, _check_indexing_error will raise\u001b[39;00m\n\u001b[1;32m   3658\u001b[0m     \u001b[38;5;66;03m#  InvalidIndexError. Otherwise we fall through and re-raise\u001b[39;00m\n\u001b[1;32m   3659\u001b[0m     \u001b[38;5;66;03m#  the TypeError.\u001b[39;00m\n\u001b[1;32m   3660\u001b[0m     \u001b[38;5;28mself\u001b[39m\u001b[38;5;241m.\u001b[39m_check_indexing_error(key)\n",
      "\u001b[0;31mKeyError\u001b[0m: 'GOP'"
     ]
    },
    {
     "data": {
      "image/png": "[encoded data removed]",
      "text/plain": [
       "<Figure size 1200x600 with 1 Axes>"
      ]
     },
     "metadata": {},
     "output_type": "display_data"
    }
   ],
   "source": [
    "# Set up FRED data connection\n",
    "# Instructions for getting your FRED API key available at these websites\n",
    "# https://pypi.org/project/fredapi/ \n",
    "# http://api.stlouisfed.org/api_key.html\n",
    "from fredapi import Fred\n",
    "fred = Fred(api_key='5e450d83c52ef0ad9cca37fad13d8fab')\n",
    "\n",
    "temp = fred.get_series('UMCSENT', observation_start='1978-01-01', observation_end='2023-07-01')\n",
    "df_total_share_price_idx = pd.DataFrame(data = temp, columns=['Sentiment Index Val'])\n",
    "df_total_share_price_idx = df_total_share_price_idx.rename_axis('Date').reset_index()\n",
    "print(df_total_share_price_idx.head(5))\n",
    "\n",
    "# Read in data files \n",
    "# GOP term flags\n",
    "url = \"https://github.com/llorracc/as.180.369/blob/main/materials/presidential-term-data/GOP_flag.csv?raw=true\"\n",
    "temp = pd.read_csv(url,dtype=str)\n",
    "df_gop = pd.DataFrame(temp)\n",
    "\n",
    "# Add a specific day (e.g., the first day of the month)\n",
    "df_gop['Date'] = df_gop['Date'] + '.01'\n",
    "\n",
    "# Convert the complete date string to a datetime object\n",
    "#df_gop['Date'] = datetime.strptime(df_gop['Date'], '%Y-%m-%d')\n",
    "df_gop['Date'] = pd.to_datetime(df_gop['Date'])\n",
    "df_gop['Date'] = df_gop['Date'].dt.normalize()\n",
    "df_gop['Date'] = df_gop['Date'].dt.floor('D')\n",
    "print(df_gop.head)\n",
    "\n",
    "print(df.head(5))\n",
    "\n",
    "# Plot consumer sentiment. Shade GOP presidential terms\n",
    "# convenience function\n",
    "def plot_series(ax, df, index='Date', cols=['Sentiment Index Val'], area='GOP'):\n",
    "    # convert area variable to boolean\n",
    "    df[area] = df[area].astype(int).astype(bool)\n",
    "    # set up an index based on date\n",
    "    df = df.set_index(keys=index, drop=False)\n",
    "    # line plot\n",
    "    df.plot(ax=ax, x=index, y=cols, color='blue', legend=False)\n",
    "    # extract limits\n",
    "    y1, y2 = ax.get_ylim()\n",
    "    ax.fill_between(\n",
    "        df[index].index, y1=y1, y2=y2, where=df[area], facecolor='tab:red', alpha=0.4\n",
    "    )\n",
    "    return ax\n",
    "\n",
    "# set up figure, axis\n",
    "f, ax = plt.subplots(figsize=(12, 6))\n",
    "plot_series(ax, df)\n",
    "ax.set_title('Consumer sentiment and GOP Presidencies', loc='left')\n",
    "\n",
    "# ax.grid(visible=False)\n",
    "ax.grid(axis='y')\n",
    "ax.set_xlabel('')\n",
    "ax.set_ylabel('Consumer Sentiment')\n",
    "\n"
   ]
  },
  {
   "cell_type": "code",
   "execution_count": null,
   "id": "3a554f56-85ec-4da7-a2f6-9d8c5970082b",
   "metadata": {},
   "outputs": [],
   "source": []
  },
  {
   "cell_type": "code",
   "execution_count": null,
   "id": "0dabcfa9-fa56-4085-8a3e-0628fa4ff1b1",
   "metadata": {},
   "outputs": [],
   "source": []
  }
 ],
 "metadata": {
  "kernelspec": {
   "display_name": "Python 3 (ipykernel)",
   "language": "python",
   "name": "python3"
  },
  "language_info": {
   "codemirror_mode": {
    "name": "ipython",
    "version": 3
   },
   "file_extension": ".py",
   "mimetype": "text/x-python",
   "name": "python",
   "nbconvert_exporter": "python",
   "pygments_lexer": "ipython3",
   "version": "3.10.10"
  }
 },
 "nbformat": 4,
 "nbformat_minor": 5
}
